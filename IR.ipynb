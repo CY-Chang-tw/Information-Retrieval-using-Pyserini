{
  "nbformat": 4,
  "nbformat_minor": 0,
  "metadata": {
    "colab": {
      "provenance": [],
      "authorship_tag": "ABX9TyN0lIHrABaA4qLDxpC9YoLz",
      "include_colab_link": true
    },
    "kernelspec": {
      "name": "python3",
      "display_name": "Python 3"
    },
    "language_info": {
      "name": "python"
    }
  },
  "cells": [
    {
      "cell_type": "markdown",
      "metadata": {
        "id": "view-in-github",
        "colab_type": "text"
      },
      "source": [
        "<a href=\"https://colab.research.google.com/github/CY-Chang-tw/Information-Retrieval-using-Pyserini/blob/main/IR.ipynb\" target=\"_parent\"><img src=\"https://colab.research.google.com/assets/colab-badge.svg\" alt=\"Open In Colab\"/></a>"
      ]
    },
    {
      "cell_type": "code",
      "source": [
        "!pip install pyserini"
      ],
      "metadata": {
        "id": "d4fXRda10a9s",
        "colab": {
          "base_uri": "https://localhost:8080/"
        },
        "outputId": "591f3604-892d-40e0-9ad2-82fd5255336a"
      },
      "execution_count": 4,
      "outputs": [
        {
          "output_type": "stream",
          "name": "stdout",
          "text": [
            "Looking in indexes: https://pypi.org/simple, https://us-python.pkg.dev/colab-wheels/public/simple/\n",
            "Requirement already satisfied: pyserini in /usr/local/lib/python3.9/dist-packages (0.20.0)\n",
            "Requirement already satisfied: nmslib>=2.1.1 in /usr/local/lib/python3.9/dist-packages (from pyserini) (2.1.1)\n",
            "Requirement already satisfied: transformers>=4.6.0 in /usr/local/lib/python3.9/dist-packages (from pyserini) (4.27.1)\n",
            "Requirement already satisfied: Cython>=0.29.21 in /usr/local/lib/python3.9/dist-packages (from pyserini) (0.29.33)\n",
            "Requirement already satisfied: pyjnius>=1.4.0 in /usr/local/lib/python3.9/dist-packages (from pyserini) (1.4.2)\n",
            "Requirement already satisfied: lightgbm>=3.3.2 in /usr/local/lib/python3.9/dist-packages (from pyserini) (3.3.5)\n",
            "Requirement already satisfied: onnxruntime>=1.8.1 in /usr/local/lib/python3.9/dist-packages (from pyserini) (1.14.1)\n",
            "Requirement already satisfied: sentencepiece>=0.1.95 in /usr/local/lib/python3.9/dist-packages (from pyserini) (0.1.97)\n",
            "Requirement already satisfied: pandas>=1.4.0 in /usr/local/lib/python3.9/dist-packages (from pyserini) (1.4.4)\n",
            "Requirement already satisfied: tqdm in /usr/local/lib/python3.9/dist-packages (from pyserini) (4.65.0)\n",
            "Requirement already satisfied: scipy>=1.4.1 in /usr/local/lib/python3.9/dist-packages (from pyserini) (1.10.1)\n",
            "Requirement already satisfied: spacy>=3.2.1 in /usr/local/lib/python3.9/dist-packages (from pyserini) (3.4.4)\n",
            "Requirement already satisfied: scikit-learn>=0.22.1 in /usr/local/lib/python3.9/dist-packages (from pyserini) (1.2.2)\n",
            "Requirement already satisfied: numpy>=1.18.1 in /usr/local/lib/python3.9/dist-packages (from pyserini) (1.22.4)\n",
            "Requirement already satisfied: wheel in /usr/local/lib/python3.9/dist-packages (from lightgbm>=3.3.2->pyserini) (0.38.4)\n",
            "Requirement already satisfied: psutil in /usr/local/lib/python3.9/dist-packages (from nmslib>=2.1.1->pyserini) (5.4.8)\n",
            "Requirement already satisfied: pybind11<2.6.2 in /usr/local/lib/python3.9/dist-packages (from nmslib>=2.1.1->pyserini) (2.6.1)\n",
            "Requirement already satisfied: sympy in /usr/local/lib/python3.9/dist-packages (from onnxruntime>=1.8.1->pyserini) (1.7.1)\n",
            "Requirement already satisfied: flatbuffers in /usr/local/lib/python3.9/dist-packages (from onnxruntime>=1.8.1->pyserini) (23.3.3)\n",
            "Requirement already satisfied: coloredlogs in /usr/local/lib/python3.9/dist-packages (from onnxruntime>=1.8.1->pyserini) (15.0.1)\n",
            "Requirement already satisfied: protobuf in /usr/local/lib/python3.9/dist-packages (from onnxruntime>=1.8.1->pyserini) (3.19.6)\n",
            "Requirement already satisfied: packaging in /usr/local/lib/python3.9/dist-packages (from onnxruntime>=1.8.1->pyserini) (23.0)\n",
            "Requirement already satisfied: python-dateutil>=2.8.1 in /usr/local/lib/python3.9/dist-packages (from pandas>=1.4.0->pyserini) (2.8.2)\n",
            "Requirement already satisfied: pytz>=2020.1 in /usr/local/lib/python3.9/dist-packages (from pandas>=1.4.0->pyserini) (2022.7.1)\n",
            "Requirement already satisfied: six>=1.7.0 in /usr/local/lib/python3.9/dist-packages (from pyjnius>=1.4.0->pyserini) (1.15.0)\n",
            "Requirement already satisfied: joblib>=1.1.1 in /usr/local/lib/python3.9/dist-packages (from scikit-learn>=0.22.1->pyserini) (1.1.1)\n",
            "Requirement already satisfied: threadpoolctl>=2.0.0 in /usr/local/lib/python3.9/dist-packages (from scikit-learn>=0.22.1->pyserini) (3.1.0)\n",
            "Requirement already satisfied: typer<0.8.0,>=0.3.0 in /usr/local/lib/python3.9/dist-packages (from spacy>=3.2.1->pyserini) (0.7.0)\n",
            "Requirement already satisfied: pydantic!=1.8,!=1.8.1,<1.11.0,>=1.7.4 in /usr/local/lib/python3.9/dist-packages (from spacy>=3.2.1->pyserini) (1.10.6)\n",
            "Requirement already satisfied: smart-open<7.0.0,>=5.2.1 in /usr/local/lib/python3.9/dist-packages (from spacy>=3.2.1->pyserini) (6.3.0)\n",
            "Requirement already satisfied: wasabi<1.1.0,>=0.9.1 in /usr/local/lib/python3.9/dist-packages (from spacy>=3.2.1->pyserini) (0.10.1)\n",
            "Requirement already satisfied: spacy-loggers<2.0.0,>=1.0.0 in /usr/local/lib/python3.9/dist-packages (from spacy>=3.2.1->pyserini) (1.0.4)\n",
            "Requirement already satisfied: langcodes<4.0.0,>=3.2.0 in /usr/local/lib/python3.9/dist-packages (from spacy>=3.2.1->pyserini) (3.3.0)\n",
            "Requirement already satisfied: catalogue<2.1.0,>=2.0.6 in /usr/local/lib/python3.9/dist-packages (from spacy>=3.2.1->pyserini) (2.0.8)\n",
            "Requirement already satisfied: thinc<8.2.0,>=8.1.0 in /usr/local/lib/python3.9/dist-packages (from spacy>=3.2.1->pyserini) (8.1.9)\n",
            "Requirement already satisfied: murmurhash<1.1.0,>=0.28.0 in /usr/local/lib/python3.9/dist-packages (from spacy>=3.2.1->pyserini) (1.0.9)\n",
            "Requirement already satisfied: cymem<2.1.0,>=2.0.2 in /usr/local/lib/python3.9/dist-packages (from spacy>=3.2.1->pyserini) (2.0.7)\n",
            "Requirement already satisfied: srsly<3.0.0,>=2.4.3 in /usr/local/lib/python3.9/dist-packages (from spacy>=3.2.1->pyserini) (2.4.6)\n",
            "Requirement already satisfied: setuptools in /usr/local/lib/python3.9/dist-packages (from spacy>=3.2.1->pyserini) (63.4.3)\n",
            "Requirement already satisfied: spacy-legacy<3.1.0,>=3.0.10 in /usr/local/lib/python3.9/dist-packages (from spacy>=3.2.1->pyserini) (3.0.12)\n",
            "Requirement already satisfied: pathy>=0.3.5 in /usr/local/lib/python3.9/dist-packages (from spacy>=3.2.1->pyserini) (0.10.1)\n",
            "Requirement already satisfied: preshed<3.1.0,>=3.0.2 in /usr/local/lib/python3.9/dist-packages (from spacy>=3.2.1->pyserini) (3.0.8)\n",
            "Requirement already satisfied: requests<3.0.0,>=2.13.0 in /usr/local/lib/python3.9/dist-packages (from spacy>=3.2.1->pyserini) (2.25.1)\n",
            "Requirement already satisfied: jinja2 in /usr/local/lib/python3.9/dist-packages (from spacy>=3.2.1->pyserini) (3.1.2)\n",
            "Requirement already satisfied: regex!=2019.12.17 in /usr/local/lib/python3.9/dist-packages (from transformers>=4.6.0->pyserini) (2022.6.2)\n",
            "Requirement already satisfied: filelock in /usr/local/lib/python3.9/dist-packages (from transformers>=4.6.0->pyserini) (3.9.0)\n",
            "Requirement already satisfied: pyyaml>=5.1 in /usr/local/lib/python3.9/dist-packages (from transformers>=4.6.0->pyserini) (6.0)\n",
            "Requirement already satisfied: tokenizers!=0.11.3,<0.14,>=0.11.1 in /usr/local/lib/python3.9/dist-packages (from transformers>=4.6.0->pyserini) (0.13.2)\n",
            "Requirement already satisfied: huggingface-hub<1.0,>=0.11.0 in /usr/local/lib/python3.9/dist-packages (from transformers>=4.6.0->pyserini) (0.13.2)\n",
            "Requirement already satisfied: typing-extensions>=3.7.4.3 in /usr/local/lib/python3.9/dist-packages (from huggingface-hub<1.0,>=0.11.0->transformers>=4.6.0->pyserini) (4.5.0)\n",
            "Requirement already satisfied: idna<3,>=2.5 in /usr/local/lib/python3.9/dist-packages (from requests<3.0.0,>=2.13.0->spacy>=3.2.1->pyserini) (2.10)\n",
            "Requirement already satisfied: certifi>=2017.4.17 in /usr/local/lib/python3.9/dist-packages (from requests<3.0.0,>=2.13.0->spacy>=3.2.1->pyserini) (2022.12.7)\n",
            "Requirement already satisfied: chardet<5,>=3.0.2 in /usr/local/lib/python3.9/dist-packages (from requests<3.0.0,>=2.13.0->spacy>=3.2.1->pyserini) (4.0.0)\n",
            "Requirement already satisfied: urllib3<1.27,>=1.21.1 in /usr/local/lib/python3.9/dist-packages (from requests<3.0.0,>=2.13.0->spacy>=3.2.1->pyserini) (1.26.15)\n",
            "Requirement already satisfied: confection<1.0.0,>=0.0.1 in /usr/local/lib/python3.9/dist-packages (from thinc<8.2.0,>=8.1.0->spacy>=3.2.1->pyserini) (0.0.4)\n",
            "Requirement already satisfied: blis<0.8.0,>=0.7.8 in /usr/local/lib/python3.9/dist-packages (from thinc<8.2.0,>=8.1.0->spacy>=3.2.1->pyserini) (0.7.9)\n",
            "Requirement already satisfied: click<9.0.0,>=7.1.1 in /usr/local/lib/python3.9/dist-packages (from typer<0.8.0,>=0.3.0->spacy>=3.2.1->pyserini) (8.1.3)\n",
            "Requirement already satisfied: humanfriendly>=9.1 in /usr/local/lib/python3.9/dist-packages (from coloredlogs->onnxruntime>=1.8.1->pyserini) (10.0)\n",
            "Requirement already satisfied: MarkupSafe>=2.0 in /usr/local/lib/python3.9/dist-packages (from jinja2->spacy>=3.2.1->pyserini) (2.1.2)\n",
            "Requirement already satisfied: mpmath>=0.19 in /usr/local/lib/python3.9/dist-packages (from sympy->onnxruntime>=1.8.1->pyserini) (1.3.0)\n"
          ]
        }
      ]
    },
    {
      "cell_type": "code",
      "source": [
        "!pip install faiss-cpu"
      ],
      "metadata": {
        "colab": {
          "base_uri": "https://localhost:8080/"
        },
        "id": "6Ktvodh2rWJT",
        "outputId": "dcfeb5ed-a175-48b4-bcfc-d00f0e820bf0"
      },
      "execution_count": 5,
      "outputs": [
        {
          "output_type": "stream",
          "name": "stdout",
          "text": [
            "Looking in indexes: https://pypi.org/simple, https://us-python.pkg.dev/colab-wheels/public/simple/\n",
            "Requirement already satisfied: faiss-cpu in /usr/local/lib/python3.9/dist-packages (1.7.3)\n"
          ]
        }
      ]
    },
    {
      "cell_type": "code",
      "source": [
        "import os\n",
        "os.environ[\"JAVA_HOME\"] = \"/usr/lib/jvm/java-11-openjdk-amd64\""
      ],
      "metadata": {
        "id": "e9BPWn6PBHzW"
      },
      "execution_count": 56,
      "outputs": []
    },
    {
      "cell_type": "code",
      "source": [
        "from google.colab import drive\n",
        "import pandas as pd\n",
        "\n",
        "drive.mount('/content/gdrive')"
      ],
      "metadata": {
        "colab": {
          "base_uri": "https://localhost:8080/"
        },
        "id": "YyHoHyl2-8Cw",
        "outputId": "3eceb49b-1ec3-4657-fd95-a723ddbefb0a"
      },
      "execution_count": 7,
      "outputs": [
        {
          "output_type": "stream",
          "name": "stdout",
          "text": [
            "Drive already mounted at /content/gdrive; to attempt to forcibly remount, call drive.mount(\"/content/gdrive\", force_remount=True).\n"
          ]
        }
      ]
    },
    {
      "cell_type": "code",
      "source": [
        "import json\n",
        "dic = {'id':None, 'contents':None}\n",
        "articles = ''\n",
        "\n",
        "with open('/content/input/wikidata_2021.json', 'w', encoding='utf-8') as wf:\n",
        "  with open('/content/input/wiki_2021_08_05_1215639.json', 'r', encoding='utf-8') as rf:\n",
        "    load_dict = json.load(rf)\n",
        "    for d in load_dict:\n",
        "      articles = d['title'] + d['articles']\n",
        "      dic.update({'id': d['id'], 'contents':articles})\n",
        "      wf.write(json.dumps(dic))\n",
        "      wf.write('\\n')"
      ],
      "metadata": {
        "id": "p7xe-m-m4NjO"
      },
      "execution_count": 8,
      "outputs": []
    },
    {
      "cell_type": "code",
      "source": [
        "!python -m pyserini.index.lucene \\\n",
        "  --collection JsonCollection \\\n",
        "  --input input \\\n",
        "  --language zh \\\n",
        "  --index indexes/wikidata_2021 \\\n",
        "  --generator DefaultLuceneDocumentGenerator \\\n",
        "  --threads 1 \\\n",
        "  --bm25.accurate \\\n",
        "  --storePositions --storeDocvectors --storeRaw --storeContents --pretokenized --optimize --impact --keepStopwords"
      ],
      "metadata": {
        "id": "l1wqIGBM_98O",
        "colab": {
          "base_uri": "https://localhost:8080/"
        },
        "outputId": "ddaf6c23-99bf-4bee-b087-d87daaa80a1c"
      },
      "execution_count": 31,
      "outputs": [
        {
          "output_type": "stream",
          "name": "stdout",
          "text": [
            "WARNING: sun.reflect.Reflection.getCallerClass is not supported. This will impact performance.\n",
            "2023-03-16 11:57:38,087 INFO  [main] index.IndexCollection (IndexCollection.java:391) - Setting log level to INFO\n",
            "2023-03-16 11:57:38,090 INFO  [main] index.IndexCollection (IndexCollection.java:394) - Starting indexer...\n",
            "2023-03-16 11:57:38,090 INFO  [main] index.IndexCollection (IndexCollection.java:395) - ============ Loading Parameters ============\n",
            "2023-03-16 11:57:38,090 INFO  [main] index.IndexCollection (IndexCollection.java:396) - DocumentCollection path: input\n",
            "2023-03-16 11:57:38,091 INFO  [main] index.IndexCollection (IndexCollection.java:397) - CollectionClass: JsonCollection\n",
            "2023-03-16 11:57:38,091 INFO  [main] index.IndexCollection (IndexCollection.java:398) - Generator: DefaultLuceneDocumentGenerator\n",
            "2023-03-16 11:57:38,092 INFO  [main] index.IndexCollection (IndexCollection.java:399) - Threads: 1\n",
            "2023-03-16 11:57:38,092 INFO  [main] index.IndexCollection (IndexCollection.java:400) - Language: zh\n",
            "2023-03-16 11:57:38,093 INFO  [main] index.IndexCollection (IndexCollection.java:401) - Stemmer: porter\n",
            "2023-03-16 11:57:38,093 INFO  [main] index.IndexCollection (IndexCollection.java:402) - Keep stopwords? true\n",
            "2023-03-16 11:57:38,093 INFO  [main] index.IndexCollection (IndexCollection.java:403) - Stopwords: null\n",
            "2023-03-16 11:57:38,094 INFO  [main] index.IndexCollection (IndexCollection.java:404) - Store positions? true\n",
            "2023-03-16 11:57:38,094 INFO  [main] index.IndexCollection (IndexCollection.java:405) - Store docvectors? true\n",
            "2023-03-16 11:57:38,095 INFO  [main] index.IndexCollection (IndexCollection.java:406) - Store document \"contents\" field? true\n",
            "2023-03-16 11:57:38,095 INFO  [main] index.IndexCollection (IndexCollection.java:407) - Store document \"raw\" field? true\n",
            "2023-03-16 11:57:38,095 INFO  [main] index.IndexCollection (IndexCollection.java:408) - Additional fields to index: []\n",
            "2023-03-16 11:57:38,096 INFO  [main] index.IndexCollection (IndexCollection.java:409) - Optimize (merge segments)? true\n",
            "2023-03-16 11:57:38,096 INFO  [main] index.IndexCollection (IndexCollection.java:410) - Whitelist: null\n",
            "2023-03-16 11:57:38,097 INFO  [main] index.IndexCollection (IndexCollection.java:411) - Pretokenized?: true\n",
            "2023-03-16 11:57:38,097 INFO  [main] index.IndexCollection (IndexCollection.java:412) - Index path: indexes/wikidata_2021\n",
            "2023-03-16 11:57:38,103 INFO  [main] index.IndexCollection (IndexCollection.java:450) - ============ Indexing Collection ============\n",
            "2023-03-16 11:57:38,627 INFO  [main] index.IndexCollection (IndexCollection.java:565) - Thread pool with 1 threads initialized.\n",
            "2023-03-16 11:57:38,628 INFO  [main] index.IndexCollection (IndexCollection.java:567) - Initializing collection in input\n",
            "2023-03-16 11:57:38,633 INFO  [main] index.IndexCollection (IndexCollection.java:576) - 2 files found\n",
            "2023-03-16 11:57:38,633 INFO  [main] index.IndexCollection (IndexCollection.java:577) - Starting to index...\n",
            "2023-03-16 11:58:38,646 INFO  [main] index.IndexCollection (IndexCollection.java:591) - 0.00% of files completed, 80,000 documents indexed\n",
            "2023-03-16 11:59:38,648 INFO  [main] index.IndexCollection (IndexCollection.java:591) - 0.00% of files completed, 180,000 documents indexed\n",
            "2023-03-16 12:00:38,649 INFO  [main] index.IndexCollection (IndexCollection.java:591) - 0.00% of files completed, 270,000 documents indexed\n",
            "2023-03-16 12:01:38,650 INFO  [main] index.IndexCollection (IndexCollection.java:591) - 0.00% of files completed, 370,000 documents indexed\n",
            "2023-03-16 12:02:38,651 INFO  [main] index.IndexCollection (IndexCollection.java:591) - 0.00% of files completed, 460,000 documents indexed\n",
            "2023-03-16 12:03:38,652 INFO  [main] index.IndexCollection (IndexCollection.java:591) - 0.00% of files completed, 480,000 documents indexed\n",
            "2023-03-16 12:04:38,653 INFO  [main] index.IndexCollection (IndexCollection.java:591) - 0.00% of files completed, 510,000 documents indexed\n",
            "2023-03-16 12:05:38,653 INFO  [main] index.IndexCollection (IndexCollection.java:591) - 0.00% of files completed, 550,000 documents indexed\n",
            "2023-03-16 12:06:38,654 INFO  [main] index.IndexCollection (IndexCollection.java:591) - 0.00% of files completed, 600,000 documents indexed\n",
            "2023-03-16 12:07:38,655 INFO  [main] index.IndexCollection (IndexCollection.java:591) - 0.00% of files completed, 660,000 documents indexed\n",
            "2023-03-16 12:08:38,656 INFO  [main] index.IndexCollection (IndexCollection.java:591) - 0.00% of files completed, 740,000 documents indexed\n",
            "2023-03-16 12:09:38,657 INFO  [main] index.IndexCollection (IndexCollection.java:591) - 0.00% of files completed, 810,000 documents indexed\n",
            "2023-03-16 12:10:38,658 INFO  [main] index.IndexCollection (IndexCollection.java:591) - 0.00% of files completed, 940,000 documents indexed\n",
            "2023-03-16 12:11:38,658 INFO  [main] index.IndexCollection (IndexCollection.java:591) - 0.00% of files completed, 1,130,000 documents indexed\n",
            "2023-03-16 12:12:29,528 DEBUG [pool-2-thread-1] index.IndexCollection$LocalIndexerThread (IndexCollection.java:356) - input/wikidata_2021.json: 1215639 docs added.\n",
            "2023-03-16 12:12:29,535 ERROR [pool-2-thread-1] index.IndexCollection$LocalIndexerThread (IndexCollection.java:359) - pool-2-thread-1: Unexpected Exception:\n",
            "java.lang.RuntimeException: JSON document has no \"contents\" field!\n",
            "\tat io.anserini.collection.JsonCollection$Document.contents(JsonCollection.java:210) ~[anserini-0.20.0-fatjar.jar:?]\n",
            "\tat io.anserini.index.generator.DefaultLuceneDocumentGenerator.createDocument(DefaultLuceneDocumentGenerator.java:63) ~[anserini-0.20.0-fatjar.jar:?]\n",
            "\tat io.anserini.index.IndexCollection$LocalIndexerThread.run(IndexCollection.java:306) [anserini-0.20.0-fatjar.jar:?]\n",
            "\tat java.util.concurrent.ThreadPoolExecutor.runWorker(ThreadPoolExecutor.java:1128) [?:?]\n",
            "\tat java.util.concurrent.ThreadPoolExecutor$Worker.run(ThreadPoolExecutor.java:628) [?:?]\n",
            "\tat java.lang.Thread.run(Thread.java:829) [?:?]\n",
            "2023-03-16 12:13:52,968 INFO  [main] index.IndexCollection (IndexCollection.java:633) - Indexing Complete! 1,215,639 documents indexed\n",
            "2023-03-16 12:13:52,971 INFO  [main] index.IndexCollection (IndexCollection.java:634) - ============ Final Counter Values ============\n",
            "2023-03-16 12:13:52,971 INFO  [main] index.IndexCollection (IndexCollection.java:635) - indexed:        1,215,639\n",
            "2023-03-16 12:13:52,972 INFO  [main] index.IndexCollection (IndexCollection.java:636) - unindexable:            0\n",
            "2023-03-16 12:13:52,972 INFO  [main] index.IndexCollection (IndexCollection.java:637) - empty:                  0\n",
            "2023-03-16 12:13:52,972 INFO  [main] index.IndexCollection (IndexCollection.java:638) - skipped:                0\n",
            "2023-03-16 12:13:52,973 INFO  [main] index.IndexCollection (IndexCollection.java:639) - errors:                 0\n",
            "2023-03-16 12:13:52,989 INFO  [main] index.IndexCollection (IndexCollection.java:642) - Total 1,215,639 documents indexed in 00:16:14\n"
          ]
        }
      ]
    },
    {
      "cell_type": "code",
      "source": [
        "!python -m pyserini.search.lucene \\\n",
        "  --index indexes/wikidata_2021 \\\n",
        "  --topics bm25/wiki.tsv \\\n",
        "  --output run.wiki_zh.txt \\\n",
        "  --language zh \\\n",
        "  --bm25 \\\n",
        "  --hits 100"
      ],
      "metadata": {
        "colab": {
          "base_uri": "https://localhost:8080/"
        },
        "id": "HOqEPuwc15zf",
        "outputId": "82fc429e-1452-4740-ec42-666e7ab4d339"
      },
      "execution_count": 44,
      "outputs": [
        {
          "output_type": "stream",
          "name": "stdout",
          "text": [
            "Running bm25/wiki.tsv topics, saving to run.wiki_zh.txt...\n",
            "100% 1/1 [00:00<00:00,  3.12it/s]\n"
          ]
        }
      ]
    },
    {
      "cell_type": "code",
      "source": [
        "! cat run.wiki_zh.txt"
      ],
      "metadata": {
        "colab": {
          "base_uri": "https://localhost:8080/"
        },
        "id": "gynLvPLY3AQg",
        "outputId": "2834a03f-887d-4985-9ea1-98da237b6c17"
      },
      "execution_count": 45,
      "outputs": [
        {
          "output_type": "stream",
          "name": "stdout",
          "text": [
            "1 Q0 488525 1 14.446400 Anserini\n",
            "1 Q0 1137603 2 14.415000 Anserini\n",
            "1 Q0 245815 3 14.402000 Anserini\n",
            "1 Q0 247385 4 14.397900 Anserini\n",
            "1 Q0 1199669 5 14.393000 Anserini\n",
            "1 Q0 647348 6 14.378600 Anserini\n",
            "1 Q0 587367 7 14.375200 Anserini\n",
            "1 Q0 289862 8 14.370900 Anserini\n",
            "1 Q0 815791 9 14.367700 Anserini\n",
            "1 Q0 1137420 10 14.350400 Anserini\n",
            "1 Q0 1167598 11 14.349200 Anserini\n",
            "1 Q0 660215 12 14.346500 Anserini\n",
            "1 Q0 71183 13 14.345700 Anserini\n",
            "1 Q0 941587 14 14.323700 Anserini\n",
            "1 Q0 918118 15 14.323200 Anserini\n",
            "1 Q0 298377 16 14.316900 Anserini\n",
            "1 Q0 199211 17 14.313000 Anserini\n",
            "1 Q0 475839 18 14.301200 Anserini\n",
            "1 Q0 417600 19 14.293800 Anserini\n",
            "1 Q0 640617 20 14.284600 Anserini\n",
            "1 Q0 103910 21 14.281300 Anserini\n",
            "1 Q0 1208679 22 14.265200 Anserini\n",
            "1 Q0 1206923 23 14.261600 Anserini\n",
            "1 Q0 752899 24 14.259100 Anserini\n",
            "1 Q0 290470 25 14.257100 Anserini\n",
            "1 Q0 249910 26 14.247300 Anserini\n",
            "1 Q0 113906 27 14.247200 Anserini\n",
            "1 Q0 239924 28 14.245000 Anserini\n",
            "1 Q0 710072 29 14.238400 Anserini\n",
            "1 Q0 107075 30 14.222500 Anserini\n",
            "1 Q0 808949 31 14.217900 Anserini\n",
            "1 Q0 508074 32 14.213500 Anserini\n",
            "1 Q0 339944 33 14.202200 Anserini\n",
            "1 Q0 1131301 34 14.193900 Anserini\n",
            "1 Q0 1045511 35 14.182800 Anserini\n",
            "1 Q0 231025 36 14.178200 Anserini\n",
            "1 Q0 18751 37 14.173200 Anserini\n",
            "1 Q0 106110 38 14.139900 Anserini\n",
            "1 Q0 592990 39 14.136600 Anserini\n",
            "1 Q0 249230 40 14.135600 Anserini\n",
            "1 Q0 120548 41 14.134000 Anserini\n",
            "1 Q0 625420 42 14.127700 Anserini\n",
            "1 Q0 158156 43 14.120900 Anserini\n",
            "1 Q0 622932 44 14.120899 Anserini\n",
            "1 Q0 105696 45 14.116000 Anserini\n",
            "1 Q0 250593 46 14.104700 Anserini\n",
            "1 Q0 228336 47 14.099200 Anserini\n",
            "1 Q0 105637 48 14.095300 Anserini\n",
            "1 Q0 1192250 49 14.095299 Anserini\n",
            "1 Q0 182710 50 14.092400 Anserini\n",
            "1 Q0 250141 51 14.084900 Anserini\n",
            "1 Q0 14364 52 14.076600 Anserini\n",
            "1 Q0 318209 53 14.067500 Anserini\n",
            "1 Q0 147046 54 14.065100 Anserini\n",
            "1 Q0 783021 55 14.056000 Anserini\n",
            "1 Q0 980936 56 14.055999 Anserini\n",
            "1 Q0 36268 57 14.028700 Anserini\n",
            "1 Q0 1136006 58 14.021900 Anserini\n",
            "1 Q0 274161 59 14.018700 Anserini\n",
            "1 Q0 943026 60 14.007400 Anserini\n",
            "1 Q0 190594 61 13.983900 Anserini\n",
            "1 Q0 214696 62 13.964400 Anserini\n",
            "1 Q0 1151521 63 13.960100 Anserini\n",
            "1 Q0 783215 64 13.908500 Anserini\n",
            "1 Q0 187949 65 13.900000 Anserini\n",
            "1 Q0 366947 66 13.890000 Anserini\n",
            "1 Q0 60352 67 13.889999 Anserini\n",
            "1 Q0 1129305 68 13.883900 Anserini\n",
            "1 Q0 929198 69 13.883899 Anserini\n",
            "1 Q0 618603 70 13.874900 Anserini\n",
            "1 Q0 912782 71 13.865400 Anserini\n",
            "1 Q0 1135102 72 13.843900 Anserini\n",
            "1 Q0 259284 73 13.843899 Anserini\n",
            "1 Q0 363322 74 13.843898 Anserini\n",
            "1 Q0 822828 75 13.843897 Anserini\n",
            "1 Q0 174290 76 13.836500 Anserini\n",
            "1 Q0 250871 77 13.836499 Anserini\n",
            "1 Q0 488587 78 13.815000 Anserini\n",
            "1 Q0 200427 79 13.809400 Anserini\n",
            "1 Q0 485122 80 13.789800 Anserini\n",
            "1 Q0 496768 81 13.789799 Anserini\n",
            "1 Q0 126821 82 13.770600 Anserini\n",
            "1 Q0 1182674 83 13.755400 Anserini\n",
            "1 Q0 300660 84 13.755399 Anserini\n",
            "1 Q0 27966 85 13.725500 Anserini\n",
            "1 Q0 966376 86 13.725499 Anserini\n",
            "1 Q0 975707 87 13.725498 Anserini\n",
            "1 Q0 218495 88 13.683900 Anserini\n",
            "1 Q0 941596 89 13.683899 Anserini\n",
            "1 Q0 113758 90 13.647600 Anserini\n",
            "1 Q0 139652 91 13.647599 Anserini\n",
            "1 Q0 15103 92 13.647598 Anserini\n",
            "1 Q0 242222 93 13.647597 Anserini\n",
            "1 Q0 417378 94 13.647596 Anserini\n",
            "1 Q0 465649 95 13.647595 Anserini\n",
            "1 Q0 941122 96 13.647594 Anserini\n",
            "1 Q0 71642 97 13.596300 Anserini\n",
            "1 Q0 975771 98 13.596299 Anserini\n",
            "1 Q0 1191952 99 13.551500 Anserini\n",
            "1 Q0 13288 100 13.551499 Anserini\n"
          ]
        }
      ]
    },
    {
      "cell_type": "code",
      "source": [
        "import time\n",
        "from pyserini.search.lucene import LuceneSearcher\n",
        "from pyserini.index.lucene import IndexReader\n",
        "import itertools\n",
        "\n",
        "searcher = LuceneSearcher('indexes/wikidata_2021')\n",
        "time_start = time.time() #開始計時\n",
        "hits = searcher.search('蝙蝠俠')\n",
        "time_end = time.time()    #結束計時\n",
        "\n",
        "time_inverted_index = time_end - time_start   #執行所花時間\n",
        "print('time cost', time_inverted_index, 's')\n",
        "\n",
        "print('hits: ')\n",
        "for i in range(len(hits)):\n",
        "    print(f'{i+1:2} {hits[i].docid:4} {hits[i].score:.5f}')\n",
        "    print(hits[i].raw)\n",
        "print()\n",
        "\n",
        "\n",
        "\n",
        "# Initialize from an index path:\n",
        "index_reader = IndexReader('indexes/wikidata_2021')\n",
        "\n",
        "\n",
        "# access basic index statistics\n",
        "print(f'basic index statistics: \"{index_reader.stats()}\"')\n",
        "print('-----------------------------------------------------------------------')\n",
        "\n",
        "for term in itertools.islice(index_reader.terms(), 10):\n",
        "    print(f'{term.term} (df={term.df}, cf={term.cf})')\n",
        "\n",
        "term = '蝙蝠俠'\n",
        "# Analyze the term.\n",
        "analyzed = index_reader.analyze(term)\n",
        "print(f'The analyzed form of \"{term}\" is \"{analyzed[0]}\"')\n",
        "\n",
        "df, cf = index_reader.get_term_counts(analyzed[0], analyzer=None)\n",
        "print(f'term \"{term}\": df={df}, cf={cf}')\n",
        "\n",
        "\n",
        "\n",
        "# Fetch and traverse postings for an analyzed term:\n",
        "postings_list = index_reader.get_postings_list(analyzed[0])\n",
        "print('Posting: ', end='')\n",
        "for posting in postings_list:\n",
        "    print(f'docid={posting.docid}, tf={posting.tf}, pos={posting.positions}')\n",
        "print()\n"
      ],
      "metadata": {
        "id": "W6CMEQMBAQ3O",
        "colab": {
          "base_uri": "https://localhost:8080/"
        },
        "outputId": "a1fdc6cc-859a-48b9-b79e-6d66cdcd2918"
      },
      "execution_count": 80,
      "outputs": [
        {
          "output_type": "stream",
          "name": "stdout",
          "text": [
            "time cost 0.005647897720336914 s\n",
            "hits: \n",
            " 1 115501 11.28800\n",
            "{\n",
            "  \"id\" : 115501,\n",
            "  \"contents\" : \"瑞芳蝙蝠洞瑞芳蝙蝠洞，是位於臺灣新北市瑞芳區海濱裏北部濱海公路旁的摺翅蝠棲息地。此洞位在臺2線75K處。昔日瑞芳多天然山區，因林相完整、蚊蠅多，吸引摺翅蝠在此大量聚集，將此洞作生殖育幼用的繁殖洞，為東亞最多摺翅蝠之處。有遷移度冬習性的摺翅蝠，從四月起母蝠起進駐洞內，於七、八月生出幼蝠，九月以後母蝠帶著幼蝠飛離此洞，部分可能遷至臺灣南部過冬。如一處在旗山山區渠道的摺翅蝠冬眠洞，學會選擇不公佈地點，以防幹擾。絕大多數仍不確定度冬的地點。西濱公路完工前即有蝙蝠，當時卻沒有正式研究，數字不可考；西濱公路完工通車，夏季傍晚蝙蝠出巢的壯觀景象吸引無數觀蝠人潮，因而瑞芳蝙蝠洞開始成為著名景點。然好景不常，而約末在80年代據當地民眾表示有人拿沖天炮往蝙蝠洞內炸，蝙蝠一夕之間全數離開，空洞時間達十餘年年之後數量又緩慢恢復。2005年，瑞芳鎮公所委託臺灣蝙蝠學會調查，蝙蝠數量高達約五十萬隻，但2007年數量再次遞減，只剩最盛期一半。2014年，調查約廿萬隻左右。2010年開始，臺北市蝙蝠保育學會與瑞芳區公所進行合作，每年夏季辦理蝙蝠活動，藉由賞蝠活動推動蝙蝠保育。其數量驟減原因包括氣候變遷、棲息地破壞、草地農藥施肥、員山子分洪道炸山讓蝙蝠洞內疑有大面積坍塌，造成棲息空間縮小。除疾駛車輛造成幼小的褶翅蝠被氣流打落死亡外，還有被瓜棚阻攔飛行路線，是因為外地民眾在洞口前開闢成菜園，更被亂丟垃圾。甚至有電信業者在這裡架設基地臺2019年由公路局總局基隆公務段與臺北市蝙蝠保育學會合作，將臺2線7傍晚6至8時5K降段於蝙蝠棲息育幼時進行限速，希冀檢少蝙蝠傷亡。新北市政府民政局和臺電、中油等單位合作，修整蝙蝠洞公園、增建賞蝠平臺，吸引民眾到訪，當地不僅賞蝠視野佳，更是觀海休憩地點。政府和當地海濱裏裏民合作保育和觀光，除設立小心蝙蝠的提醒駕駛人告示外，沿途有蝙蝠壁畫，鐵路也變身為蝙蝠橋，希望藉此複製猴硐經驗，帶動此地觀光。公園採全天開放，內設停車場與涼亭，附近有海濱車站遺跡。2015年報導時，瑞芳區公所於蝙蝠活躍季節的七月份會在每星期六、日下午五點半時至七點半時，也就是蝙蝠傍晚出洞覓食之時，定點定時排定志工導覽解說，並規定賞蝠原則，嚴禁幹擾蝙蝠活動。2016年瑞芳區長陳奇正表示擬規畫將蝙蝠洞公園打造為主題公園，以蝙蝠的「蝠」字為發想，有五「蝠」臨門、「蝠」如東海、鐘聲幸「蝠」、幸「蝠」一生、「蝠」星高照，作為五大主題的公園。\"\n",
            "}\n",
            " 2 521561 9.61980\n",
            "{\n",
            "  \"id\" : 521561,\n",
            "  \"contents\" : \"俠客俠客，又稱俠士、遊俠、豪俠，或單稱「俠」，中國傳統社會一類身份特殊的人物，他們通常仗義助人，慷慨好施，時常為人打抱不平，不一定通曉武藝。由於「俠客」，是人們心目中被景仰的對象，也是中國文學的重要主題。俠客行事常訴諸武力，不甚在意法律，韓非說：「儒以文亂法，俠以武犯禁」。典型的俠客是習武的，通曉武術，或者門下有許多武者，可供驅使。俠客把習武之人的道德，發展至最高水平，是習武之人中的精英。俠客待人接物立身處世，往往有以下部份或大部份特點：個性鮮明，意志堅強，堅守信念；為人公正，伸張正義，具有正義感，路見不平，拔刀相助；救急扶危，樂於助人，慷慨輕財，無私利他，不惜捨己救人；忠於知己，勇敢堅強，誠實可信；無視法紀，常訴諸武力，有時好勇鬥狠，破壞社會秩序；為了原則和道義不惜犧牲，視死如歸；愛惜名譽，如受冒犯，誓必報復，有時做事輕率；生性傲慢，放蕩不羈，不受約束，不肯屈居人下。俠客高尚勇敢、打抱不平、樂於助人和愛惜名譽的個性，和西方的騎士有相似之處。俠客由個性和作風而界定，並不屬於特定的社會階層，和日本浪人有點相似，出身各式各樣，職業各有不同，包括官員、將領、士人、農夫、工匠、商販、醫生、道士、僧人、屠夫甚至無業等等。在清代，一些俠客成為鏢師或拳師，如大刀王五、霍元甲。傳說中，有些俠客成為盜賊，專門劫富濟貧，可稱為「俠盜」。究其實俠客沒有地域之分，爲一些文人可能說的煞有介事，可是又沒有數據支持，譬如像：“俠客以北方人較多，也許因為中國北方接近遊牧民族的領土，受其勇武的習俗影響。”。以任俠人士以祖籍考究，其實南方有專諸、春申君、田仲、劉邦、孫策、曹操、李白、宋克、王守仁、陳慥、何心隱、姚啓聖、張家玉、袁崇煥、甘鳳池、康廣仁、楊銳、林旭、譚嗣同、洪熙官、陸亞採、劉光第、杜心武、廣東十虎、顧汝章、秋瑾、農勁蓀、廖添丁、黃飛鴻、林世榮等；北方有豫讓、孟嘗君、信陵君、平原君、魯仲連、朱家、陳遵、杜季良、樓護、郭泰、王著、祖逖、郭元振、羊來如、李存義、楊深秀、董海川、程廷華、大刀王五、郭雲深、姬際可、燕子李三、馬占山、白朗等，另外地域上傳統所說的古代俠士主要圍繞漢文化的核心，即中原一帶，聶政、郭解、信陵君、劇孟、原涉、侯贏、荊軻、張良、典韋、甘寧也是中原人，非南非北，跟遊牧民族領土差之千里，後世馬永貞、王子平倒是回族俠客。另以義爲先者皆可俠，只是政治色彩太濃者姑且略過，可能是虛構人物如：少林五祖、方世玉、胡惠乾等亦略。戰國時代局勢動蕩，俠客應運而生，保護弱者維持秩序。當時天下分裂，一些俠客離家遠遊，周遊各國，稱為遊俠。顯貴往往收留許多門客，包括俠士，如信陵君魏無忌就收容許多遊俠。早期俠客社會勢力較大，有些俠客有許多部下、追隨者和族人，忠心耿耿，連羣結黨，人多勢眾，聲勢浩大，號令一方，如西漢時的朱家、田仲、劇孟、郭解等等。這種俠客往往稱為豪俠。漢太祖為遊俠出身，非常敬重俠客。西漢初年，朝廷招納了一些豪俠為官，如西漢時的灌夫、陳遵，都官拜太守。豪俠亦往往與官員結交，成為地方官府的吏役，甚至做地方官的爪牙。但從漢景帝開始，那種勢力特別強大的豪俠，朝廷視為對皇權和秩序的嚴重威脅，設法打擊，誅殺許多豪俠，漢武帝更是大規模有系統地加以翦除，如郭解、萭章等。「京師大俠」朱安世被宰相公孫賀拘捕，居然用計，使得公孫賀被滅族。自東漢起，那種人多勢眾號令一方的豪俠很少出現，只是在兵荒馬亂的時代，一些豪強擴充武力，有許多人投奔追隨，號令一方，也堪稱豪俠，如三國時的劉節、東晉時的祖逖、北魏時的裴慶孫。由於中國社會趨向重文輕武，武裝的豪族漸漸消逝，俠客之間的聯繫趨於鬆散，大多單人匹馬，獨來獨往，甚或出沒無常，沒有地方勢力，有時號稱劍客，例子如唐代許俊、南宋時的「龜山僧」、明代呂光午。歷朝都會招納個別俠客為官員或將領，如唐代郭元振、宋代焦繼勳成為將領，明初宋克成為官員。俠客在唐代以前社會地位較高，宋代以後大不如前，六朝唐代都有不少歌頌俠客的詩歌，但自宋代起，衷心讚美俠客的詩歌很少出現。清朝初年，鏢局出現，負責押運和護衛，一些鏢師亦是俠客，如大刀王五，一些教授武術的拳師，亦被視為俠士，如清末霍元甲。俠客一般是習武的，但有時也包括不習武的人，廣義來說，只要做事有俠義之風就算是俠客。俠客的領袖，或贍養俠客的人，就算是不習武，也往往被視為「俠」，如戰國四公子、秦末的趙王張耳、代王陳餘。後世財雄勢大，能結交和號召俠客的人，也稱為「俠」或「任俠」，如明代王守仁。有些士大夫，未必習武，但待人處事有俠義精神或俠義之風，受讚譽為「俠」，如東漢時的名士郭泰、北宋的陳慥、明代何心隱。祕密會社特重「義氣」，也被視為有「俠」的精神。俠客是中國文學中受讚揚的英雄形象。六朝、隋唐時，有不少讚揚俠客的詩歌，名篇如曹植〈白馬篇〉、王維〈少年行〉、李白〈俠客行〉和〈少年行〉、孟郊〈遊俠行〉。宋元兩代可能受理學影響，少有吟詠俠客的詩歌，。明代詩人著重復古和模彷古詩，重新以俠客為主題，但作品欠缺真感情；到清代，俠客詩歌再度衰落。俠客生平富戲劇性，個性多姿多彩，往往產生許多傳聞，成為中國小說的重要主題，反映了人們對正義之士的期望。在小說中，俠客一般不娶妻甚至是不談戀愛，剋制個人感情，認為兒女私情有礙行俠。唐代後期傳奇小說興起，出現一些優秀的俠客小說，反映唐代藩鎮割據下，人們期望俠客出來撥亂反正。最出色的作品是杜光庭《虯髯客傳》，此外有裴鉶《崑崙奴傳》和《聶隱娘》、袁郊《紅線傳》等佳作。唐傳奇中的俠客往往懂得道教法術，如紅線女和聶隱娘。在宋代，俠客是說書藝人常用的故事主題，許多俠客故事發展成小說，最著名亦最出色的是明代《水滸傳》，宋江、盧俊義等一百單八將皆是遊俠，但書中最具俠氣的人物是魯智深。五代時的英雄如郭威、趙匡胤，也是俠義小說的主角。在清代，有一類俠客小說描寫俠客保護清官儆惡鋤奸，稱為「俠義公案小說」，典型作品有石玉昆《三俠五義》，描寫南俠展昭和白玉堂等「五鼠」保衛包公對付壞人。有些小說則著重描寫俠客的愛情故事，如佚名《好逑傳》和文康《兒女英雄傳》。從晚清起，有些俠客小說特別渲染和誇張俠客的武藝，可稱「武俠小說」，反映了國家衰落、面對強權時振興國民的期望，最傑出的作品之一是向愷然《俠義英雄傳》，作者聲稱故事有事實根據，小說主角是晚清霍元甲。在20世紀後半，武俠小說仍方興未艾。另一些小說中，俠客不但精通武藝，還懂得法術，如把劍化為寒光成為飛劍，或馭鳥飛昇，稱為「飛仙劍俠小說」，最精彩的是民國時還珠樓主《蜀山劍俠傳》。中國傳統戲劇常以俠客為主題，故事往往並非取材自現實，主要改編自唐傳奇小說、《水滸傳》或史書。在元代雜劇，李逵是梁山好漢中最流行的主角。取材自史實中的俠客，有信陵君、荊軻等。清代後期的京劇，除了取材自唐傳奇和《水滸傳》外，也改編清代俠義小說，如《十三妹》一劇改編自《兒女英雄傳》。\"\n",
            "}\n",
            " 3 491692 9.03180\n",
            "{\n",
            "  \"id\" : 491692,\n",
            "  \"contents\" : \"武俠文化武俠文化是華人界特有的一種流行文化，體現於武俠類作品的盛行，乃至影響到小說、漫畫、影視、電子遊戲和音樂等各種娛樂媒介。武俠文化多以各式俠客為主角，神乎其神的武術技巧為特點，刻畫宣揚俠客精神。由來已久。最早的俠客可追溯到春秋戰國時期的專諸、荊軻等人，他們的故事傳頌千古，歷久不衰。最早的俠，見於《韓非子·五蠹》，“儒以文亂法，俠以武犯禁。”至司馬遷的《史記》，專給遊俠寫了列傳——《遊俠列傳》，其中，對遊俠的評價是：“然其言必信，其行必果”，可以說，這是整個俠文化的總綱。班固的《漢書》亦寫有《遊俠傳》。遊俠以武力行事，敵視公家，不講法律，憑自己的力量、自己的眼光，個人的意氣、個人的判斷來決定是非和生殺。所以普通人往往將願望寄託在俠客身上。在中國的曲藝當中，亦有頗多俠客的史蹟，風塵三俠、紅線傳、聶隱娘、七俠五義、何玉鳳等故事至今膾炙人口。典型的武俠故事中有幾個常見的主題，故事背景通常會設定在古代或近現代的中原，歷史背景可以是具體的年代，也可以模糊帶過。儘管不是必然、但武俠通常具有幻想元素，例如超自然的生物或是超能力。武術是武俠文化中必定出現的元素，故事的主要角色大多都能夠使用或知曉某種類型的武術。武俠故事中的武術通常是基於現實世界中的中國武術，在武俠的世界裡、這些武術通常會被誇大，其產生的效果遠超過現實世界的武術。武俠故事中常見的能力包括武功、輕功、內功、點穴等，武俠故事裡的角色通常透過拜師學藝、虔心修煉和武林祕笈來學會這些武術。「俠」是中華文化中一種基於儒家文化的特有價值觀。江湖不是一個實際存在的場所，在武俠文化中，江湖則是俠客們的活動範圍，「江湖」強調了它的變動性及危險性，「綠林」顯示了他的違法及不合理性，「武林」則限制了他屬於「武人」的屬性。這個世界即使偶與歷史背景做結合，但虛構的成分仍然很濃厚，「這場域，自成一格，既模擬現實世界，又別闢蹊徑，擁有自足而完整的範疇、規律，與現實世界大相逕庭，基本上是由作者、讀者在某種默契下『虛構』而成。」抽離歷史情境而虛構，從另一個角度而言，卻也等同於束縛的鬆綁，無論是經濟、政治、社會、法律的歷史實情如何，都無須顧慮，只須假借個虛擬的「古代」，作者只須擁有歷史常識（不是知識），即足以盡情馳騁在此一想像的空間，將重心置放在英雄的江湖事業、兒女情長及恩怨讎報之中。虛擬的「江湖世界」，除了存在「俠客」之外，也出現了大量的外來人物，「如文人社會中的書生、官吏、僚佐；宗教社會中的僧人、尼姑、道士；農村社會中的漁夫、樵子、農人；商人社會中的商賈、仕紳；其他如乞丐、妓女、兒童等。」這些三教九流的人物充實且豐富了新的江湖。經過了歷代小說家的改造，新的江湖走出了歷史，成為了一種虛擬但完整的社會型態。江湖世界中的人物遵守正邪之分和實力至上的原則，同時也藐視世俗禮法，是自由自在的獨立個體，一般而言分為兩類：一是獨行俠，二是集團人物。前者獨來獨往，不受他人約束，後者統屬在某一具有成文或不成文規範下的「集團」，也就是所謂的「幫派」。「綠林」原為山名，位於今湖北省當陽縣東北六十里處。西漢末年一場農民起義，使之成為「千古名山」，並成為一政治色彩濃厚的文化符號。唐代詩人的引詩人事，使得「綠林」最終成了結夥聚集山林反抗官府或搶劫財物的集團代稱。在武俠小說中，風格各異的綠林人物成為江湖世界重要的組成份子，這些人物與其所屬門派幫會的一舉一動也影響著江湖的分分合合。武俠小說中的「綠林人物」指的並不是盜賊，也不是原先的農民義軍，而是偏向指黑道的幫會。綠林中也存在一些特別的幫會，例如眾所周知的「丐幫」，一般武俠小說中的丐幫形象是很正派的，在金庸小說中更是賦予了丐幫一種「忠義」的特徵，使得原來在社會中品級低下，人見人憎的乞丐，得以憑藉滿腔忠義而揚眉吐氣。1952年初，香港武術界輩分較高、年紀較大的太極派掌門吳公儀與少壯的白鶴派掌門陳剋夫發生衝突，於是這兩人相約到澳門新花園擺擂臺一決高下。澳港兩地的人們爭相擁看。《新晚報》的總編輯羅孚見市民對擂臺比武如此癡迷，產生了在報紙上連載武俠小說的念頭，並邀約梁羽生寫武俠小說。梁羽生表示要考慮幾天，羅孚索性在擂臺比武的第二天便在報紙上登出要連載武俠小說的消息，將梁羽生逼上梁山。於是梁羽生在次日，即1954年1月20日開始連載第一部新派武俠小說《龍虎鬥京華》。小說連載後轟動一時，《新晚報》銷路大增，《大公報》也開始向梁羽生約稿。1955年，當時爲救《新晚報》每日一篇“武俠”的急，從未寫過小說的金庸開始寫《書劍恩仇錄》。1956年金庸再爲《香港商報》連載《碧血劍》，1958年，金庸開始連載《射鵰英雄傳》，從此奠定武俠宗師的地位，被稱爲「有華人處，便有金庸小說」。以金庸，梁羽生，古龍爲代表，開創了新派武俠小說，打破了武俠小說難登大雅之堂的主流看法。中國已有學者專門研究武俠小說。武俠小說是中國武術派生的文化產物，包含“武”文化和“俠”文化。“武”文化通過小說中誇張的功夫描寫，豐富展現了中國武術的源遠流長。“俠”文化力圖展現寧折不曲，爲國爲民的正氣。武俠小說涉獵極廣，詩詞，對聯，曲藝，琴棋書畫等盡在其中。這是一個虛擬的武俠世界，在這裏，許多作家充分展現及發揚了中國的傳統文化。武俠小說往往通過角色各有特色的武術及各異的性格，來闡釋人生的道理，被人們譽爲“成人的童話”。武俠小說中有大段的武打描寫，雖多數不夠真實，帶有誇張和幻想，但不少也能在現實中找到影子。武俠小說在華語地區深受歡迎，由武俠小說改編拍攝而成的電影及電視劇數量衆多。雖然寫作武俠小說的人不少，但作品良莠不齊，以金庸、古龍、梁羽生等人的作品最爲有名。最近大陸比較受歡迎的武俠作品有《崑崙》、《華音流韶》、《劍影茗香》等等。還有經典的武俠劇，21世紀大都爲大陸拍攝，如《射鵰英雄傳》、《天龍八部》、《神鵰俠侶》等。伴隨著網路的到來，大量的新一代武俠作品向網路蜂擁。這一前奏是首先將金庸、梁羽生、古龍的作品以電子檔形式以剛出現的光碟為載體傳播，便於用任何文本編輯器打開閱讀。而後出現了大批量的電子書的格式。真正的網路武俠的時代開始於網路文學興起的大潮，任何人可以向文學網站上傳個人作品，且這已成為許多文學網站謀生的商業手段。網路時代的武俠不再單純侷限於簡單的傳統模式，更趨向於仿現實的趨勢，大致以大部分人公認的較好的作品來劃分，有兩個里程碑：黃易的《大唐雙龍傳》、《尋秦記》等作品，以及泥人的《江山如此多嬌》。前者同時創下了最長的武俠和歷史科幻武俠之先河兩大紀錄，後者是融合了現實的官場操縱江湖背景的情色作品。在電影傳入中國後，功夫片成爲中國電影的一大特色，是對世界電影的一大貢獻，也使武術邁向了新的領域。功夫片，又稱武術片、武俠片、武打片等，是以誇張的功夫格鬥爲特點的影片。至今中國已有多少部功夫片，已難以記數。而古裝武俠電視劇，也在中文電視劇中佔有相當大的比重。1928年，明星影片公司開始拍攝的《火燒紅蓮寺》是中國第一部武俠片，也是中國第一個系列電影，前後共拍了18部。一經推出就獲得了巨大好評，隨後就有不少跟風之作，將武術片推向了第一個高潮。黃飛鴻是清末時期中國的武術宗師，香港在五、六十年代起根據他的故事拍攝的黃飛鴻系列電影，共百餘部，是世界上以同一題材拍攝最多集的系列電影。而李小龍，則帶着他標誌性的喊叫、雙節棍與凌厲乾脆的截拳道，將中國電影領入了全世界人們的視線中。對於許多不瞭解中國文化的人士來說，瞭解中國電影就是從看李小龍的電影開始，瞭解中國武術也是從李小龍開始的。李小龍也因電影成爲了世界最著名的中國武術家。雖然李小龍是真正把中國武術引向西方的人，但他的電影並不是第一個國際放映的中國功夫片。第一部在海外正式做商業放映的中國功夫片是1971年邵氏公司出品，鄭昌和導演、羅烈主演的《》，該片曾在美國1000家主流影院同時上映，盛況空前，成爲1973年全球十大賣座電影之一。李小龍之後，成龍的電影以現代化的背景，輕鬆幽默的風格，再一次征服了世界觀衆。電影《少林寺》80年代也曾在中國乃至世界影壇掀起一股新風格武術電影熱潮，並使李連杰這個年輕的武術冠軍一舉成爲國際級影星。於是《少林小子》、《南北少林》、《木棉袈裟》、《武當》、《南拳王》等片一擁而出，掀起了全民尚武的高潮。後來由他扮演，徐克導演的《黃飛鴻》系列，也深入人心。中國的功夫片，演員多有武術基礎，不少都是武術家。如主演黃飛鴻系列最多的關德興，就是粵劇武生。而後的成龍、李連杰、趙文卓等，都是武術家。劉家良、劉家輝則更是黃飛鴻的傳人。而在拍攝中需要演員真正打鬥起來，這樣功夫片又催生出了一個新的電影職業——武術指導。武術指導開始只在中國功夫片中出現，後來西方電影在追求更加刺激的打鬥過程中，也引入了該職業。2001年3月26日，臺灣導演李安執導的功夫片《臥虎藏龍》以其清新的畫面動作，西式的意識形態，獲得了第73屆奧斯卡金像獎最佳外語片等四個獎項，是功夫片第一次獲此殊榮。由此也引發了中國武俠電影的一次風格轉向。在《臥虎藏龍》後，大陸許多知名導演爭相拍攝武俠片，每次都是班底精良的大製作，邀請亞洲知名演員主演，並積極做商業宣傳。此批影片特點是：場面，動作，音樂等優美精細，頗具藝術觀賞性；情節，對話等亦避免從前的粗俗，直接，構思方面追求一定的文學效果與內涵。相對地，功夫片或中式武打，在國際電影界卻越來越熱。不僅在東方，西方國家也開始拍攝以功夫爲賣點的電影，及在電視節目中插入越來越多的武打鏡頭。最明顯的例子是好萊塢電影《駭客任務》（\\\"The Matrix\\\" 又譯爲《駭客帝國》或《二十二世紀殺人網絡》）。影片將科幻題材，電腦特技和中國功夫很好地結合起來，在世界範圍內獲得了巨大成功。爲了表達對中國功夫片的敬意，香港著名喜劇演員周星馳也運用電腦特技拍攝了《功夫》，並於2004年底上映，廣受好評。中國武術在電子遊戲上也佔有一席之地。1991年，日本Capcom公司推出了一部劃時代的街機遊戲——街頭霸王（street fighter），正式確立了格鬥遊戲的地位。而這部遊戲中的唯一一位女性角色，也是唯一一名中國角色春麗（Chun Li），被設定使用中國功夫，她獲得了全世界電子遊戲愛好者的喜愛，是電子遊戲中人氣最高的女格鬥家。隨後，不少日本遊戲公司都推出了格鬥遊戲，裏面大多會有一些人物被設定爲中國武術家，有些遊戲角色的設定明顯帶有李小龍或成龍的影子。不過，限於當時的技術，遊戲一般只是二維(2D)畫面，因此難以表現真正的武術，而只是一些模式固定的誇張招數。隨着技術的發展，20世紀90年代中期，數字技術已經發展到可以製作三維(3D)動作遊戲。經典的代表作有日本世嘉公司的《VR戰士》系列、日本南夢宮公司的《鐵拳》系列和TECMO的《死或生》系列等。它們都是以模仿或捕捉真人動作而形成遊戲角色動作，因此真實性大大提高。世嘉公司的知名遊戲製作人鈴木裕先生爲了製作《VR戰士》系列遊戲，甚至還專門跑到中國河北省滄州去請教八極拳的傳人吳連枝大師，甚至拜了師門，成爲八極拳的入門弟子……在鈴木裕先生後來的優秀遊戲作品《莎木》系列中，以八極拳爲代表的各種中國武術也得到了非常充分、合理的再現，令人歎服，獲得了全世界範圍的認可。網際網路上以武俠為題材的遊戲首度小規模出現於1992年的免費MUD文字遊戲《東方故事》的部分內容，並且成為其後續作品《東方故事2 天朝帝國》的主要內容。該遊戲首度將武俠題材中對練武者的角色扮演、武術招式、對打等情境予以遊戲化，並且成為21世紀初期盛行的武俠題材線上遊戲始祖。\"\n",
            "}\n",
            " 4 776335 8.82820\n",
            "{\n",
            "  \"id\" : 776335,\n",
            "  \"contents\" : \"四川方言字四川方言字，泛指用於書寫四川話的漢字，通常採用形聲、會意等手段來紀錄四川話中不見於現代標準漢語的特有詞彙。四川方言字部分爲採用形聲、會意等手段創造的新造字，例如“”（四川話拼音：nao³；抓取之意）爲採用形聲創造的四川方言字；而“嫑”（四川成都話拼音：biao¹；不要之意）爲採用會意創造的四川方言字。另一部分爲四川話方言詞彙的本字，在古代漢語經常出現並留存至今，但在現代標準漢語中已經廢棄或極少用到，故而大部分常用辭典都沒有收錄。四川話使用者很多都只會口講，而不會書寫，或因其輸入電腦、書寫麻煩而改用借音字。此外部分助詞如「dao³」字（表持續，義同「着」）讀音同「倒」，但常常寫作「到」或換作「着」。為四川所獨有或多見，如 、浩、壩、𡎚、沱、塝。這些字大部分都只作為地名使用，有些時候因無法用未安裝大字元電腦表示，而出現訛寫的情況，例如將「 」寫成「嘴」，「𡎚」寫成「蝙」、「扁」、「碥」。為保留地名，民間常用手寫字。\"\n",
            "}\n",
            " 5 244838 8.39070\n",
            "{\n",
            "  \"id\" : 244838,\n",
            "  \"contents\" : \"殲滅者 (漫威漫畫)殲滅者（），是漫威漫畫中的虛構超級反派角色，由作家史丹·李和藝術家傑克·科比所創作。殲滅者首次於《Fantastic Four Annual》#8中登場。在2009年，IGN將殲滅者列為漫畫反派百強排名第94名。殲滅者是負空間的領主，利用他強大的宇宙控制棒控制負空間的居民。在神奇先生發現從地球到負空間的方法後遇見神奇4俠。多年來，他一直與神奇4俠發生衝突，經常與團隊計劃入侵地球。在《神奇4俠》的原始劇本透露，殲滅者原定出演於電影中。\"\n",
            "}\n",
            " 6 286322 8.39070\n",
            "{\n",
            "  \"id\" : 286322,\n",
            "  \"contents\" : \"王者榮耀職業聯賽王者榮耀職業聯賽（，簡稱KPL），是王者榮耀官方頂級職業聯賽，於2016年9月舉行第一屆聯賽，並分為春季及秋季聯賽兩個賽季，每季聯賽分爲2個部分：常規賽和季後賽，目前共有17支隊伍參賽。在2016KPL聯賽開賽至今，發生了無數次的因爲網絡問題而暫停或重開事件。在2017年王者冠軍盃總決賽因爲網絡問題導致延遲1小時才繼續比賽。在2018春季賽有KPL幾位解說因爲被網友懷疑偏幫某隊帶節奏，而解說李九慘遭被網友攻擊。因在2018春季賽在解說QGhappy戰隊的比賽時，在QGhappy陷入逆風時而覺得可以翻盤，在QGhappy順風時就表示敵隊一定無法翻盤之類的話，還在2018年冠軍盃上在微博發表“如果今天不是我解說的話eStar應該會贏得冠軍”。而當時eStar的對手正是QGhappy，也讓網友認爲是不是因爲QGhappy是2017的3冠王而纔會偏幫QGhappy。在2018秋季賽KPL聯盟在常規賽結束前2周突然宣佈季後賽將採用全局BP，BO7規則（每戰隊在前6局比賽只能用一次英雄，還是每隊4BAN位共8BAN位，第7局“決勝局”爲盲選）。也讓網民在網上留言認爲因爲王者榮耀官方無法讓英雄平衡，才讓KPL經常出現強勢英雄而已，擔心觀衆粉絲看膩了KPL所以才推出這個賽制除了網絡問題，曾經而因爲手機客服出現問題，導致暫停比賽。而值得一提的是雖然官方的冠名商是Vivo手機和採用Vivo系列的手機，但是曾經被爆出比賽時是使用蘋果手機。曾經在KPL比賽出現過因爲戰隊逆風而裁定重開的事件，最著名的事件爲2018冬季冠軍盃預選賽。當是QGhappy對陣JC當時第7局，雙方進入盲選。JC與QGhappy提交了名單上去給裁判確認，而裁判則表示沒問題。但在比賽一半時裁判按暫停，只因JC隊的陣容問題，最終較有優勢的JC隊無奈的接受重開，最終JC戰隊輸了比賽。這就事也讓兩支戰隊的粉絲在網上開罵，並牽扯了所以KPL戰隊的粉絲一起加入罵戰。而官方只給出因陣容問題而重開就草草了事，而一些網民認爲官方不應該草草了事，則認爲當時覈對陣容的裁判需要負責任。也讓部分網民認爲KPL官方和裁判的公正立場不中立。轉會體系一直以來都是每個傳統體育與電子競技重要的時刻，轉會期來臨也代表選手能不能決策是否要離隊。而在KPL聯賽的轉會體系一直被批不完善，在2018起KPL就採用“掛牌”體系，以想要離隊的或要被賣的隊伍就可以被掛牌。但是在首個“掛牌體系”的轉會期只傳走了5個選手，而多數被掛牌的選手因無法轉會而被退役或離開頂級聯賽被迫征戰次級聯賽。而在2018秋季賽RNG.M的隊長兼輔助的一笑被掛牌，原本BA黑鳳梨已經口頭答應一笑會讓他加入戰隊，而因爲時任BA的隊長兼輔助770也被掛牌，但最終BA770因爲無法離隊而留下來，讓一笑無法轉會至BA。而RNG.M早已沒留位置（KPL規定每支戰隊只能在賽季前提交最多10人名單，除曾被2018徵召打亞運會的戰隊）。一笑早已拒絕了其他戰隊的邀請，所以一笑則確定無法征戰2018秋季賽。這事件後，也讓網民覺得“掛牌體系”的漏洞太多及不完善和轉會時間太少只有1星期多而已（掛牌時間另算）。也讓一笑結束了短短的一年職業生涯。現任官方解說/主持/評論員已離任解說/主持/評論員2019王者榮耀KPL職業聯賽春季賽是王者榮耀官方最高格的職業聯賽，也是KPL創立以來的第6屆聯賽，春季賽共有15支隊伍參賽。Hero久競爲該季衛冕冠軍。常規賽將採用BO5+全局BP（有禁用英雄），也不再對外雙循環以及組內單循環，全部單循環。常規賽的積分排名將影響季後賽的隊伍優勢，賽區排名前2隊伍將進入勝者組。季後賽將不再組內對戰決出賽區冠軍，將以組外對抗，列如：勝者組東1vs西2、西1vs東2，敗者組東4vs西部賽區第4第5附加賽勝者、西4vs東5，東3和西3將等待期勝者。而因爲西部擁有8隊與東部的7隊多一隊，所以西部前4名直接晉級季後賽，而第5和第6將進行一場附加賽勝者將獲得最後一個季後賽名額。季後賽勝者組季後賽附加賽西部應有8個隊伍，東部才7個隊伍。數量不平衡，所以西部第5和第6需進行附加賽，決定季後賽名額。敗者組敗者組總決賽常規賽MVP<br>eStar.Cat （東部）常規賽最佳陣容最佳上路 ：RW俠.渡劫（西部）<br>最佳打野 ：GK.鵬鵬（西部）<br>最佳中路 ：eStar.Cat（東部）<br>最佳下路 ：GK.阿改（西部）<br>最佳輔助 ：GK.胖敦（西部）總決賽MVP<br>eStar.Cat2018王者榮耀KPL職業聯賽秋季賽是王者榮耀官方最高規格的職業聯賽，也是該季聯賽爲第5屆職業聯賽，共有14支隊伍參賽。2018秋季賽隊伍擴大至14支隊伍，而且取消降級制度。並實施東西區主客場制，常規賽每週星期三至日爲比賽期，每天3場比賽，繼續採用BO5（五局三勝）東西部排名前5晉級季後賽，季後賽採用雙敗賽制。並且是首屆BO7+全局BP（七局四勝，有禁用角色）。季後賽規則採用雙敗賽制，規則如下：東西部前2晉級勝者組，第3至第5則進敗者組。第1和第2之間的勝者則直接進入賽區決賽，而敗者則需要等待敗者組的勝者。季後賽排名3輪空一輪，需等待排在第4和第5之間的勝者。第4和第5名的對決勝者繼續晉級挑戰常規賽第3名，而敗者則淘汰。第3和第4/第5之間的勝者的勝者將會和勝者組的敗者進行比賽，決出最後一個賽區決賽的名額而敗則淘汰。而本屆KPL將首次採用全局BP全局BP爲一個戰隊一個英雄只能用一次，直到到了第7局，第7局爲巔峯對決，雙方進入盲選，並解放前6局已使用過的英雄。西部賽區勝者組/賽區決賽敗者組東部賽區勝者組敗者組總決賽BA黑鳳梨（Black Ananas）<br>eStar（eStarPro）<br>EDG.M（EDward Gaming Mobile Esports）<br>RNG.M（Royal Never Give Up Moblie eSports）<br>QGhappy<br>TOPM（TOPsports Gaming Mobile）<br>VG（Vici Gaming）GK（Gank Gaming）<br>Hero久競（Hero JiuJ）<br>JC（JC Gaming）<br>Ts（Ts豚首 Gaming）<br>RW俠（Rogue Warriors）<br>XQ（X-Quest）<br>WE（Team WE）<br>YTG（YTG Gaming）最佳上路 : BA.六點六(東部)<br>最佳打野 :RNGM.虔誠(東部)<br>最佳中路 :Hero.久誠(西部)<br>最佳下路 :BA.一諾(東部)<br>最佳輔助 :BA.770(東部)RNGM.虔誠(東部)Hero.久誠(西部)抽籤決定A、B兩組之隊伍，常規賽積分排名前四的戰隊將晉級季後賽，勝者晉級、敗者淘汰，常規賽採用BO3（三局兩勝制）的積分賽制，勝者積1分，負者積0分。常規賽結束後，A、B兩組積分前四名共八隊晉級季後賽，季後賽採用單敗淘汰制。常規賽採用雙循環賽制，不再分組，最後按各隊在兩個循環的全部比賽中的積分排列名次。常規賽取得前八名的隊伍將晉級季後賽，常規賽採用BO3賽制（三局兩勝制），而季後賽則採用單敗淘汰制。恢復分組，並分為A、B兩組，以組內雙循環和組外單循環的BO3機制（三局兩勝制）進行比賽。兩組戰隊中積分前四的八支戰隊，將晉級季後賽，季後賽使用雙敗淘汰制。實施東西賽區主客場制，東部賽區主場館為上海靜安體育中心體育館；西部賽區主場館為成都量子光電競中心，每天有兩場比賽（上海、成都各一場），由原先三局兩勝制（BO3）更改為五局三勝制（BO5），東西部賽區排名前四名隊伍晉級季後賽，積分前四進行季後賽後，決出東西冠軍，季後賽採用雙敗淘汰制。將隊伍數擴增至14隊，且取消升降級制度，並實施東西賽區主客場制，每天進行三場比賽，常規賽同樣為BO5賽制（五局三勝制），東西部賽區排名前五名隊伍晉級季後賽，季後賽採用雙敗淘汰制。東部賽區新增VICI GAMING，使隊伍擴充至15隊，RW俠由東部賽區轉入西部賽區，常規賽改為單循環制並採用全局BO5、BP賽制（五局三勝制，有禁用角色），季後賽也不再分組對抗，並採用BO7、BP賽制（七局四勝制，有禁用角色）。XQ由西部賽區轉入東部賽區。AG超晚會以收購BA黑風梨的方式迴歸KPL賽場的西部賽區，常規賽為單循環制並採用BO5、全局BP賽制（五局三勝制，有禁用角色），季後賽使用雙敗淘汰賽制，分成勝者組以及敗者組，並採用BO7、全局BP賽制（七局四勝制，有禁用角色）。HOPE以預選賽第一進入KPL賽場，並更名杭州LGD大鵝加入東部賽區，常規賽為單循環制並採用BO5、全局BP賽制（五局三勝制，有禁用角色），季後賽使用雙敗淘汰賽制，並採用BO7、全局BP賽制（七局四勝制，有禁用角色）。常規賽不再使用東西部分組，而改成了一個大組，常規賽前四名晉級季後賽勝者組，常規賽第5至第10名晉級季後賽敗者組，常規賽改為單循環制並採用BO5、全局BP賽制（五局三勝制，有禁用角色），季後賽使用雙敗淘汰賽制，並採用BO7、全局BP賽制（七局四勝制，有禁用角色）。季前賽（僅2021春季賽設立）常規賽季後賽2016年9月王者榮耀職業聯賽（KPL）正式成立，共12支戰隊參賽，每支戰隊將進行10場BO3（三局兩勝制）的常規賽，首屆KPL總決賽在上海世博舉辦，最終由As仙閣以3比2打敗AG超玩會，AS仙閣成功奪得首屆KPL總冠軍。2017年1月15日，2017KPL春季賽預選賽正式結束，也代表2017KPL春季賽即將開啓新的征程，2017KPL春季賽常規賽12支將進行22場BO3（三局兩勝制）的常規賽，2017年6月常規賽正式落幕開啓季後賽賽程，並將原由的BO5（五局三勝制）改製爲BO7（七局四勝制），2017年7月8日第二屆KPL總決賽（2017春季賽）在上海東方體育館舉辦，最終由QGhappy4比0打敗再次闖入總決賽的AG超玩會，QGhappy奪得第二屆KPL總冠軍。2017年9月21日第三屆KPL（2017KPL秋季賽）正式開賽，2017秋季賽常規賽將賽制再次進行調整，恢復分組，組內進行雙循環和組外單循環的BO3（三局兩勝制）的常規賽，每支隊伍需16場常規賽，2017年12月23日深圳春繭體育館舉辦，由QGhappy和XQ爭奪2017KPL秋季賽的總冠軍，QGhappy以4比2擊敗了XQ成功衛冕KPL總冠軍，值得一提的是QGhappy除了獲得2017年KPL的春季賽和秋季賽總冠軍之外，8月QGhappy在王者冠軍盃總決賽4比2打敗eStar獲得王者冠軍盃總冠軍，QGhappy成爲首個大滿貫的隊伍。2018年KPL春季賽實施東西賽區主客場制，一個賽區由6支隊伍組成，從原先的BO3（三局兩勝制）改爲BO5（五局三勝），賽區內進行循環，賽區外雙循環，每支隊伍需打17場常規賽，東西部賽區排名前4晉級季後賽，季後賽將進行東西部賽區內決出東西冠軍，最終由兩個賽區冠軍爭奪總冠軍，由於常規賽東部賽區實力強大，被粉絲稱“東強西弱”。但最終在梅賽德斯-奔馳文化中心舉辦的總決賽由來自西部賽區的Hero久競4比1打來自東部賽區黑馬EDG.M，奪得2018KPL春季賽總冠軍，打破了“東強西弱”的局面。2018秋季賽官方宣佈將取消升降級制度，將原有12支參賽隊伍擴軍至14支隊伍，並保留東西部賽區制度。2018秋季賽是KPL成立以來的第五屆聯賽，eStarPro和XQ成爲唯二從未降級的隊伍。2018KPL秋季賽每支隊伍需打20場BO5（五局三勝制）常規賽，季後賽將原本的BO7（七局四勝制）改爲全局BP（有禁用角色）+BO7（七局四勝制），總決賽五糧液成都金融城演藝中心來自西部賽區的衛冕冠軍Hero久競及東部賽區的BA黑鳳梨，爭奪2018KPL秋季賽總冠軍，Hero久競以4比3打敗BA黑鳳梨，續QGhappy後成爲第二支完成衛冕總冠軍的隊伍。2019年KPL春季賽將保留東西部賽區制，並曾加一支隊伍參賽共15支隊伍，常規賽改爲單循環、BO5（五局三勝制）+全局BP（有禁用角色），季後賽不再分組對抗、雙敗賽制，依舊採用BO7（七局四勝制）+全局BP（有禁用角色）。2019KPL春季賽總決賽原本在西安大明宮國家遺址公園-丹鳳迎賓舉行，但比賽當天因天氣問題而取消展延，最終總決賽改爲在曲江國際會展中心A館進行，eStarPro以4比2打敗RNG.M獲得2019春季賽總冠軍。2019KPL秋季賽將保留2019KPL春季賽的賽制，除了原本的2019KPL春季賽BA黑鳳梨被已經降級了的AG超玩會收購之外，其餘參賽隊伍除了進行更名之外保持不變，2019年12月14日，2019KPL秋季賽總決賽於武漢光谷國際網球中心舉行，經過了五局的廝殺後AG超玩會成功以4比1打敗QGhappy奪得首個KPL總冠軍。2020年1月KPL官方公佈6支戰隊的主場地區，6支隊伍分別爲上海EDG.M、武漢eStarPro、南京Hero久競、重慶QGhappy和廣州TTG.XQ。2020年春季賽季後賽KPL官方宣佈將有兩支隊伍添加主場地區地分別爲杭州LGD大鵝和西安WE。2020秋季賽KPL官方宣佈佛山將成爲GK主場，而同個賽季KPL官方宣佈將啓動4城線下城市主場，即上海EDG.M主場（上海ESP電競文化中心、無線下場館隊伍均在上海線下場館比賽）武漢eStarPro主場（湖北廣電2000演播廳）、南京Hero久競主場（紅楓科技園展覽廳）和廣州TTG主場（天河區文化藝術中心），2020秋季賽季後賽重慶QGhappy主場（重慶QG融創電競中心）正式啓用，將舉行季後賽三場比賽。2021春季賽來臨之際KPL又添加2支城市冠名隊伍，分別深圳DYG和北京WB，同一個賽季深圳DYG主場（南山區文化館）將在2021年4月17日啓用。2021年6月16日KPL官方宣佈添加3個城市冠名隊伍分別爲上海RNG.M、長沙TES和蘇州KSG，2021秋季賽將啓用2個新增線下主場，兩個新線下主場是成都AG超玩會主場（高新區歐洲中心）和西安WE主場（曲江區國際會議中心）。隨着2021年春季賽Hero久競奪冠，Hero久競將成爲目前KPL最多奪冠記錄者（3次），目前爲止KPL經歷了10屆，共出7個總冠軍，冠軍爲As仙閣（2016秋季賽）、QGhappy（2017春季賽、2017秋季賽）、Hero久競（2018春季賽、2018秋季賽、2021春季賽）、eStarPro（2019春季賽）、AG超玩會（2019秋季賽）、TS（2020春季賽）和DYG（2020秋季賽），目前除了As仙閣已經降級，其餘6支冠軍隊伍還在征戰KPL。（截止2021KPL春季賽）資料更新截至於2021年6月16日\"\n",
            "}\n",
            " 7 326231 8.39070\n",
            "{\n",
            "  \"id\" : 326231,\n",
            "  \"contents\" : \"AG超玩會成都AG超玩會（），是AG電子競技俱樂部旗下的王者榮耀分部，目前參加王者榮耀職業聯賽。AG超玩會前身爲，由王者榮耀知名主播“零度”所創辦的超玩會、龍珠和AG電子競技俱樂部合併而組建的王者榮耀職業戰隊。AG超玩會雖然於2018年春季賽降級，但在2019年8月12日官方公佈AG超玩會成功收購KPL職業聯賽現役戰隊BA黑鳳梨，併成功通過審覈以AG超玩會名義參加2019KPL秋季賽，並獲得了2019KPL秋季賽總冠軍。在QQ飛車手遊S聯賽中，AG以全名ALL GAMER代表參賽，且在S聯賽中也帶有非常良好且令人印象深刻的表現在2016年王者榮耀冠軍盃結束，獲得亞軍的超玩會、龍珠與AG電子競技俱樂部達成協議，2傢俱樂部將會合並，更名爲AG超玩會參加2016王者榮耀職業聯賽秋季賽。AG超玩會表現優異，以B組第1晉級季後賽，AG超玩會除第一場意外輸給MU之外，常規賽和季後賽不敗戰績晉級總決賽，共12連勝。原以爲AG超玩會將會在總決賽輕取素有“黑馬”及“戰術大師”之稱的As仙閣，但AG卻2比3不敵對手，無緣冠軍以亞軍的成績結束了該季的賽程。AG超玩會在經歷16年秋季賽無緣冠軍後，AG超玩會在休賽期間原主力上單“傑斯”宣佈離隊，並加入由前超玩會、龍珠的創辦人“零度”所創的sViper戰隊並擔任隊長。讓AG超玩會的陣容分崩離析，但AG超玩會在轉會期結束後，宣佈原SC.月痕，sViper.流蘇和穩住我們能贏戰隊的夜神加入AG超玩會，讓粉絲放下心頭大石，不只是保主隊長老帥，明星選手夢淚等其他選手，還引入多名強援，讓AG超玩會在該季依舊保持爭冠的可能性。AG超玩會該季常規賽以第3名晉級季後賽，而在季後賽首輪AG超玩會將對上上賽季讓AG超玩會無緣奪冠的衛冕冠軍AS仙閣，但AG超玩會以4比0零封了對手，讓AS仙閣提前無緣衛冕冠軍。在4強半決賽中AG超玩會面對大黑馬WeFun依舊以4比0的比分強勢晉級總決賽，連續2個4比0讓AG超玩會粉絲認爲AG超玩會首冠只差一步之遙。但AG超玩會將在總決賽面對該季史上最大的對手QGhappy，該季QGhappy常規賽表現強勢，創下KPL創建以來最高連勝，15連勝。但AG超玩會因季後賽表現優異，而讓所有的粉絲認爲雙方都有5成奪冠的機會。但是AG超玩會在總決賽中以0比4不敵QGhappy，再次無緣總冠軍。在2017王者冠軍盃AG超玩會在第一輪以1比3不敵對手XQ，讓AG超玩會提前結束冠軍盃的征程。2017年8月AG超玩會宣佈原在2017年春季賽總決賽後2017年7月宣佈上任的主教練“寒夜”突然宣佈辭去AG超玩會的主教練一職，打亂了AG超玩會的備戰計劃。但無阻AG超玩會在轉會期引援的計劃，該季AG超玩會除原替補打野夜神宣佈退役之外，其餘隊員將繼續爲AG超玩會效力。轉會期間AG超玩會宣佈原As仙閣.嶼秋，eStar.兔子及2名青訓選手“小飛”和“富貴”加入AG超玩會一線名單。AG超玩會除老帥，Vv和夢淚保持首發之外，原春季賽的流蘇和蘭息則失去首發的位置，該賽季常規賽AG超玩會幾乎首發頻繁輪換，讓AG超玩會該季常規賽表現中規中矩。AG超玩會在季後賽首輪面對RNG.M，AG超玩會雖然連續拿下3個賽點，但卻被對手連追3局被對手逆轉，3比4不敵RNG.M，結束該季征程。2018初AG超玩會傳出隊長“老帥”即將轉會離隊，這消息傳出震驚王者榮耀職業聯賽圈。最終AG超玩會在轉會期宣佈“老帥”將掛牌出售，最終“老帥”成功以千萬人民幣轉至GK戰隊。AG超玩會在老帥離開後，引入了原QGhappy前隊長MC，以及多個青訓選手，原AG超玩會的上單選手Vv將擔任隊長一職。但AG超玩會因適宜版本及無法定下主教練一職，讓AG超玩會以1勝16負的戰績西部墊底，建隊以來無緣季後賽。在保級賽中AG超玩會0比4不WeFun.D，將降級需要打KPL預選賽來爭奪2席KPL名額。但AG超玩會在預選賽以9連敗的戰績無緣打進需要進入KPL的積分門檻，無緣2018秋季賽。降級後的AG超玩會宣佈征戰2018年春季賽的大部分選手包括夢淚，隊長Vv等，將不會代表AG超玩會征戰次級聯賽。在QGS聯賽第1輪不敵同樣降級的WeFun.D後，AG超玩會因無法達到打KPL冬季預選賽的積分門檻，讓AG超玩會宣佈該戰隊將暫時不會參加任何關於王者榮耀的比賽，以及微博無期限停更，疑似解散。但AG超玩會旗下的青訓隊伍SG以及AG.Y依舊活躍在次級聯賽，打破瞭解散的謠言。在2019年8月初傳出離開了將近1年多KPL的AG超玩會將會以收購BA黑鳳梨的方式迴歸KPL。此謠言傳出驚動了王者圈，在更多社交媒體上風傳此消息。但據說KPL官方因爲不想因爲AG超玩會迴歸KPL一事影響在馬來西亞舉辦着淘汰賽的2019王者榮耀世界冠軍盃，而不做此迴應。在2019年世界世界冠軍盃結束後的一天後官方正式宣佈AG超玩會成功收購BA黑鳳梨迴歸KPL的消息，這將是AG超玩會時隔534天后正式重回KPL。在確定AG超玩會迴歸KPL後，粉絲特別關注AG超玩會究竟會以什麼陣容征戰2019KPL秋季賽。因AG超玩會以收購BA黑鳳梨的方式迴歸KPL所以BA黑鳳梨春季賽旗下的11名選手將全員加入AG超玩會，除此之外在2018春季賽大名單上的選手均有資格進入AG超玩會大名單，加上外傳前隊長“老帥”會轉會迴歸AG超玩會，讓粉絲期待到底AG超玩會能否以最強陣容打秋季賽。轉會期結束後，官方公佈了AG超玩會2019秋季賽的大名單，AG超玩會將保留原BA黑鳳梨的BA.六點六（6.6）、BA.一諾、BA.小劍、BA.Top以及春季賽BA黑鳳梨從終極高手簽下的”麟羽軒”（新ID：麟羽）和BA黑鳳梨在被收購前定下的新秀選手“笑影”。轉會期AG超玩會則簽下多名選手分別爲前隊長原RW俠.老帥、RW俠.愛思、eStar Pro.MC及青訓提拔隊員“藍柚”，而2018春季賽的AG超玩會10人大名單選手，只剩AG超玩會.夢淚入選本季大名單。新賽季AG超玩會表現亮眼，首戰3比2戰勝XQ終結了26連敗。常規賽AG超玩會以11勝3負的戰績西部排名第一晉級季後賽，但季後賽首輪遇上宿敵QGhappy，1比4不敵對手，掉落敗者組。在敗者組第3輪AG超玩會4比2戰勝TS，晉級下輪，在敗者組半決賽AG超玩會遇上同樣是奪冠大熱門的eStar，雙方鏖戰7局，AG超玩會以4比3險勝eStar。在敗者組決賽面對黑馬戰隊DYG.JC，AG超玩會4比0擊敗DYG.JC，時隔2年半再次晉級總決賽，並最終於12月14日以4比1比分戰勝QGhappy奪冠。因AG超玩會是2019KPL秋季賽的三強，所以不需要進行預選賽，直接晉級八強。AG超玩會八強的對手是來自KRKPL賽區的ROX Phoenix。AG超玩會以最終以4比1的比分戰勝了他們的對手，晉級半決賽。在半決賽當中，AG超玩會再次面對宿敵QGhappy。但這次的AG超玩會沒能延續秋季賽總決賽的氣勢，2比4敗北於QGhappy，與TS位居季軍。隨着AG超玩會的教練月光宣佈卸下主教練一職，AG引入了RW俠的教練DGC來替代月光。同時，AG也引入了3位主力，無痕，最初以及七年。他們也添加了自己主場成都。賽季初，AG以絕對的優勢3比0零封了宿敵QGhappy,取得2020年KPL春季賽開門紅。AG超玩會以12勝3負獲得西部第一晉級勝者組。勝者組第一輪面對RNG.M，AG超玩會以4比1的大比分闖入勝者組決賽，並再以4比2的比分戰勝對手，DYG,衝進了2020年KPL春季賽總決賽。總決賽AG超玩會即將要面對TS戰隊。而這一次的總決賽，AG超玩會沒能成功衛冕，以3比4敗北於TS戰隊，再一次位居亞軍。雖然AG超玩會無緣總冠軍，但AG超玩會以2019-2020年世界冠軍盃積分年積分第一成功的晉級了2020年王者榮耀世界冠軍盃小組賽。在經歷了兩連敗的小組賽，AG超玩會的主教練DGC因被許多人的質疑而卸下了主教練的身分。現在的AG超玩會是由張角代替了DGC。經歷了換帥風波後，AG超玩會在頂着兩連敗的壓力，在後三場的比賽一路連勝殺出了被稱爲\\\"死亡之組\\\"的A組，成功晉級四分之一決賽(8強)。在四分之一決賽中，AG超玩會在領先3比0的情況下，被對手VG連追三局，強行將比分拖入巔峯對決。在巔峯對決中，AG超玩會憑藉着老道的經驗，4比3拿下VG，成功晉級半決賽。半決賽AG超玩會將面對到在2020年KPL春季賽冠局TS。而在4強淘汰中AG超玩會依舊以3比4不敵TS，無緣2020年王者榮耀世界冠軍盃的總決賽。隨着2020世界冠軍盃的結束，KPL迎來了秋季轉會期。再次，AG超玩會引進了來自TES的湯湯以及征戰了兩個賽季次級聯賽的隊員阿澤來進行陣容補強。前主教練月光也宣佈迴歸主教練一職，而代理教練張角也迴歸了賽訓總監一職。在秋季賽的首戰，AG超玩會將面對春季賽以及世冠冠軍TS(現已跟名Weibo.TS)。在此之前，AG超玩會已經吞下WB.TS的三連敗。但這次，AG派出了三冠王輔助最初以及阿澤首發，並且以大比分3比0零封了WB.TS，取得秋季賽開門紅。在經歷了開賽兩連勝後，AG超玩會在常規賽第三場以1比3的比分敗北於南京Hero久競。在此之後，AG超玩會在常規賽第四場面對西安WE，在對手2比0領先3個賽點的情況下，成功扭轉局勢，讓二追三。之後，AG超玩會邊迎來了自己的高峯期，豪取聯賽9連勝，並且零封了各路豪門戰隊。但是到了常規賽尾端，AG超玩會先是被佛山GK終結了9連勝，又在常規賽最後一場比賽以1比3不敵杭州LGD大鵝，最終以12勝3負在積分榜排名第二拿下勝者組名額。(雖然同爲12分，但AG超玩會以勝負關係力壓Weibo.Ts拿下積分榜第二)。根據賽程，勝者組的賽制位1vs4，2vs3，以爲着AG超玩會將會在勝者組第一輪面對Weibo.Ts。這次，AG超玩會沒有給Weibo.Ts機會，4比0乾淨利落的拿下比賽，闖進勝者組決賽且獲得冬季冠軍盃正賽資格。在勝者組第二輪，AG超玩會面對到DYG，復刻了春季賽的賽程。但這次，DYG成功復仇，4比2拿下AG超玩會，將AG超玩會逼入敗者組。在跌入敗者組後，AG超玩會將會面對杭州LGD大鵝，AG超玩會這次以4比1戰勝了LGD大鵝，自迴歸以來連續三個賽季都闖入了總決賽。12月19日當天，在重慶的總決賽現場，AG超玩會慘被DYG零封，再一次倒在了總決賽舞臺，位居亞軍。這是參與王者榮耀的所有比賽的第五個亞軍。在經歷了秋季賽以及冬季冠軍盃的失利之後，主教練月光宣佈卸任。許多粉絲認爲月光不應該辭去主教練一職，但大部分的粉絲都認爲月光應該是在負荊請罪，所以他才主動辭去主教練一職。在此之後，助教以及數據分析師都接連辭去了他們的職位。這使得超玩會在這段期間的賽訓組只剩下張角一人了。過了一段時間，在KPL賽制更改了之後，隨着轉會期也來了。AG超玩會趁着這個轉會期補強了自己的陣容。他們花了將近一千兩百萬簽下了來自上海EDG.M的打野初晨以及輔助小北，同時也簽下了自由人1987。原AG超玩會的對抗路六點六(6.6)以及輔助最初則稱這個轉會期轉會到了RNG.M。同時，AG超玩會也找來了他們青訓教練Awoke來擔任主教練，來自RW俠的月下則擔任助教。季前賽AG超玩會被分到了Y組，但AG超玩會又遇到了在總決賽零封他們的深圳DYG,但這次的AG超玩會沒讓深圳DYG得逞，以乾淨利落的2比0拿下比賽，取得季前賽開門紅。在提前鎖定S組的席位過後，AG超玩會在季前賽的最後一輪選擇練陣容，導致他們在最後一輪失利，以6勝1負鎖定Y組第一。在常規賽的首輪階段，AG超玩會在第一場又遇到了深圳DYG，但這次沒季前賽贏得那麼輕鬆，雙方戰至決勝局，AG超玩會才以3比2拿下比賽，取得常規賽開門紅。在首輪常規賽的較量中，AG超玩會只輸給了武漢eStarPro，以4勝1負位列S組第一併且獲得第二輪S組的常規賽資格。在S組第二輪常規賽的第一場比賽中，AG超玩會在落後於TES兩分的情況下拼盡全力拿下三分，實現讓二追三。在零封了S組強敵武漢eStarPro後，提前鎖定S組第三輪以及季後賽的名額。在第三輪常規賽中,AG超玩會先是戰勝了佛山GK，但在隨後的比賽中再次敗北於武漢eStarPro和深圳DYG，沒辦法以S組第一的身份晉級季後賽。根據季後賽規則，S組前四晉級勝者組，AG超玩會以3勝2負排在第2位，所以季後賽對手是來自S組第三的廣州TTG(雖廣州TTG也是3勝2負，但因勝負關係排在了第3位)。在勝者組的比賽中，AG超玩會以2比4的成績不敵廣州TTG，遺憾掉入敗者組，失去了提起晉級四強的先機。在跌入敗者組後，AG超玩會必須完成一穿四才能晉級到總決賽。在這段時間裏，AG超玩會的粉絲都希望可以發生2019年秋季賽的劇本。AG超玩會在掉入敗者組的第一戰就是面對TES，這次AG超玩會以4比2戰勝了滔搏，成功晉級敗者組半決賽。敗者組半決賽的對手同樣來自勝者組跌入敗者組的武漢eStarPro，復刻了2019年秋季賽敗者組半決賽，也是一穿四的第二步。敗者組半決賽成都AG超玩會以4比0零封對手武漢eStarPro，成功晉級敗者組決賽，對手是首輪戰勝成都AG超玩會的廣州TTG。此次成都AG超玩會以3比4再次不敵廣州TTG，這也是成都AG超玩會至2019年KPL秋季賽迴歸以來首次無緣KPL總決賽。不過成都AG超玩會因世冠積分累計16分，按照2021年王者榮耀世界冠軍盃晉級規則，成都AG超玩會在排除2021春季賽總冠軍之外積分位列第一已成功直接晉級2021年王者榮耀世界冠軍盃小組賽。2019年S聯賽秋季賽，AG順利進入到季後賽，在季後賽中順利已3:0大勝季後賽敗者組決賽卻已2:3遺憾敗給RSG，止步接下來的賽事，接下來的賽事，但是下個賽季卻為AG寫上歷史的最佳紀錄經歷了一年多的調整，AG再次站上S聯賽的舞臺，也順利進入到了季後賽，且在常規賽中道具組創下了常規賽道具全勝，成功拿下了2020年QQ飛車手遊S聯賽春季賽最佳道具團隊。不過在這賽季的季後賽附加賽圈中，AG卻一場未勝，掉入了季後賽的敗者組，在敗者組中，只要輸了就打包走人，不過在季後賽開始後，AG即時把狀態調整回來，在敗者組首輪順利已3:1擊敗了Q9，在第二輪又以3:1順利擊敗GK，又與RNG.M、RSG、QG一起進入了四強，QG也已3:0大勝RNG.M順利搶下總決賽的第一張門票，在接下來的跟RSG的比賽當中，AG狀態大好，最後以3:0大勝RSG，挺進了敗者組總決賽將與RNG.M搶下最後一張總決賽的門票，在跟RNG.M的比賽中，AG仍火熱狀態將2V2拿下，不過RNG.M道具第一輪狀態也大好，擊敗了AG的道具組，大分來到1:1，在第一輪競速分別派出了AG.獅子與RNG.M雲海，但雲海俗稱跑圖機器人，已進步神速的獅子來說，仍然不敵RNG.M雲海。但下一輪的1V1中，AG鐵頭娃與RNG.M千尋大戰12局，好幾局都以毫秒差衝線，最後AG.鐵頭娃已7:5戰勝RNG.M千尋，大比紛來到2:2，最後一局道具組AG重返狀態，已5:3戰勝RNG.M大分3:2成功擊敗RNG.M闖進總決賽。在總決賽中，仍然QG狀態火熱，AG最終已0:3不敵QG獲得亞軍，不過這成績也已創下AGQQ飛車手遊的最佳成績。AG繼上賽季拿到亞軍後，常規賽狀態依舊保持火熱，也順利晉級季後賽，在季後賽附加賽圈先以3:1擊敗RSG成功闖進勝者組，不過勝者組中仍再已0:3不敵QG掉入敗者組，而QG又第六度順利晉級總決賽，不過最終的敗者組總決賽中，AG再次對上RNG.M RNG.M順利拿下重要的2V2大分，且秋季賽的RNG.M道具組實力快速增長，最後AG 1:3不敵RNG.M遺憾落敗敗者組總決賽，不過這表現也是歷史第二好的戰績在前兩個賽季，AG表現異於以往，因此AG獲得了大量粉絲的支持，不過在這個賽季中，道具組元老AG.捕熊暫離，雖然有引進新人AG.軒軒，但AG道具組仍在配合上有很大的問題，導致常規賽道具組表現大降，加上常規賽賽制調整，最終道具只戰勝RSG、Q9、WLG.EDGM2V2因鐵頭娃狀態表現非常不佳，即使AG.獅子狀態在，但最終AG2V2常規賽只戰勝WLG.EDGM遺憾止步季後賽\"\n",
            "}\n",
            " 8 454687 8.39070\n",
            "{\n",
            "  \"id\" : 454687,\n",
            "  \"contents\" : \"王者榮耀職業聯賽2019年秋季賽2019年王者榮耀職業聯賽KPL秋季賽，是王者榮耀官方最高規格的職業聯賽，本季是KPL創立以來的第7季職業聯賽。2019年KPL秋季賽共有15支隊伍參賽，eStarPro爲該季衛冕冠軍。東部賽區EDG.M（EDward Gaming Mobile eSports）eStar（eStarPro）QGhappy（Quantum Gaming Happy）RNG.M（Royal Never Give Up Moblie）TES（TOPEsports）VG（Vici Gaming）XQ（X-Quest）西部賽區AG超玩會（All Games）DYG.JC（Dynamite Gaming.JC）GK（Gank Gaming）Hero久競（Hero JiuJing E-sports club）RW俠（Rogue Warrior Esports club）TS（Ts Gamimg）WE（Team WE）YTG（YTG Gaming）隊伍變化2019KPL秋季賽依舊保持了2019KPL春季賽15支隊伍的數量，但在這個賽季參賽的隊伍卻發生了變化。BA黑鳳梨»AG超玩會（收購加入）JC»DYG.JC（戰隊更名）TOPM»TES（戰隊品牌升級）常規賽依舊以東西主客場制,常規賽每週星期三至日爲比賽日。常規賽將繼續採用BO5全局BP制及單循環比賽,每隊必須比14場的常規賽。各賽區排名前5晉級季後賽,前2進勝者組。西部隊伍因維持8隊所以第5第6名依舊需要打附加賽決定最後季後賽名額。季後賽依舊保持BO7+全局BP，雙敗模式。東西部交叉對決。勝者組敗者組西部附加賽常規賽MVPeStar.Cat(東部)總決賽MVP(FMVP)AG超玩會.老帥(西部)其它榮譽常規賽最佳輔助:RNGM.Zero(東部)常規賽最佳打野:eStar.花海(東部)常規賽最佳發育路:AG超玩會.一諾(西部)常規賽最佳對抗路:RW俠.渡劫(西部)常規賽最佳中路:QGhappy.Mojo(東部)\"\n",
            "}\n",
            " 9 585342 8.39070\n",
            "{\n",
            "  \"id\" : 585342,\n",
            "  \"contents\" : \"潔西卡·艾巴潔西卡·瑪麗·艾芭（，），是一位美國女演員、電視和電影演員、企業家。她13歲開始演藝生涯，參演電影《Camp Nowhere》和美劇《The Secret World of Alex Mack》(1994)。艾芭通過出演美劇《末世黑天使》(2000–2002)開始嶄露頭角成爲知名女演員，之後擴大其演藝版圖進軍大銀幕，多數出演動作片和喜劇片。近年出演的電影包括《Honey》(2003)、《罪惡之城》(2005)、《神奇4俠》(2005)、《Into the Blue》(2005)、《神奇4俠：銀魔現身》(2007)以及《倒數第二個男朋友》(2007)。艾芭經常出現在Maxim雜誌的\\\"Hot 100\\\"欄目中，也曾被AskMen.com網站票選爲2006年\\\"99位男人最想得到的女人\\\"排行榜第一名，同時也被《男人幫》雜誌評爲2007年“世上最性感的女性”。花花公子雜誌在未獲許可的情況下將其照片刊登在封面上，而此事隨後引發法律糾紛，但不久即平息。艾芭憑其表演而獲得多個獎項，包括2001年和2008年度青少年選擇獎最佳女演員以及憑藉《末世黑天使》而贏得2001年度土星獎最佳電視女演員。潔西卡於1981年4月28日出生在美國加利福尼亞州洛杉磯縣的波莫納，她擁有多國血統，父親馬克·艾芭（，是墨西哥裔美國人），母親凱瑟琳·琴生（，有丹麥、威爾士、德國、英格蘭、及法國血統），她還有個弟弟名叫約書亞。因爲父親在空軍服役的緣故，全家經常搬家，在潔西卡九歲那年搬回加州前曾經在密西西比州和德克薩斯州居住過。艾芭年幼時體弱多病，曾經得過兩次肺塌陷，每年都會得幾次肺炎，她的闌尾和扁桃腺曾經出過問題。她小時候在醫院裏度過了大部分的童年生涯，也就很少與其他小朋友一起玩樂 。潔西卡承認小時候曾受強迫症所困擾，此困擾在她家搬回加州後逐漸減少了。她於16歲從中學畢業，在高中畢業後她前往大西洋戲劇學校（）繼續求學。艾芭早在5歲就想當演員。1994年在電影《\\\"Camp Nowhere\\\"》飾\\\"Gail\\\"，是艾芭第一次參與電影演出。之後，曾爲任天堂和J.C. Penney拍過廣告，出演過幾部獨立電影。也在1994年，她演出電視劇《The Secret World of Alex Mack》，1995年演出電視劇《Flipper》。1998年在《\\\"Brooklyn South\\\"》飾 \\\"Melissa Hauer\\\"、並在電視劇《\\\"Beverly Hills, 90210\\\"》裏飾 \\\"Leanne\\\"，和《\\\"The Love Boat: The Next Wave\\\"》裏飾 \\\"Layla\\\"。高中畢業後，艾芭在 \\\"Atlantic Theater Company\\\" 學習演技。1999年，艾芭在出演一吻定江山後，在好萊塢知名。隨後在喜劇/恐怖片《\\\"Idle Hands\\\"》演女主角。2000年，導演/作家詹姆斯·卡梅隆在1,200人中選出艾芭來主演末世黑天使。艾芭因此出名。2012年1月，與Christopher Gavigan和Shoedazzle.com創辦人Brian Lee，共同投資創辦無毒日用品網站Honest.com（美國誠實公司前身）。潔西卡為人低調，只會在有需要的時候才現身。2001年時，曾與一同演出《末世黑天使》的男主角邁克·韋瑟利相戀並訂婚，但婚約在2003年解除。2008年5月19日，潔西卡於洛杉磯嫁予在拍攝《驚奇4超人》時認識的製片人凱許·華倫（Cash Warren），並於同年在洛杉磯生下女兒。2011年生下二女兒。首張獨家照刊於西班牙版的《OK!》。2017年，潔西卡產下一子。MV演出：2015 泰勒絲 Bad Blood\"\n",
            "}\n",
            "10 667307 8.39070\n",
            "{\n",
            "  \"id\" : 667307,\n",
            "  \"contents\" : \"萬王之王3萬王之王3是雷爵公司所發行萬王之王系列的線上遊戲的第三代。目前1代與2代的伺服器皆已永久停機。玩者登入遊戲的方式為一律免費；但是在遊戲內的商城則可在遊戲中取得軍票後，購買商城的物品；或是購買實體的點數卡，在遊戲中兌換水晶幣後，購買商城的物品。戰　士<br>牧　師<br>法　師<br>戰　士　→　狂戰士、遊　俠、騎　士<br>牧　師　→　神　官、賢　者、祭　司<br>法　師　→　魔劍師、咒術師、巫術師<br>狂戰士　→　鬥　狂、狂　魔、戰　將<br>遊　俠　→　聖鬥士、詩　人、殺　手<br>騎　士　→　聖騎士、暗騎士、龍騎士<br>神　官　→　主　教、長　老、妖　神<br>賢　者　→　聖　者、智　者、邪　魔<br>祭　司　→　法　王、大祭司、妖祭司<br>魔劍師　→　劍　聖、劍　魔、大劍師<br>咒術士　→　靈能者、操魔者、妖術師<br>巫術師　→　戰　巫、大法師、巫　妖<br>獲得2008年度「數位內容產品獎Game Star遊戲之星」的以下獎項：國內自製最佳線上遊戲銀獎（Game Star玩家票選）、最佳年度大賞獎、最佳線上遊戲、最佳遊戲製作人、最佳美術設計、*佳程式設計。中國萬王之王3尋找龍珠獲得范冰冰獨家代言\"\n",
            "}\n",
            "\n",
            "basic index statistics: \"{'total_terms': 390077070, 'documents': 1215639, 'non_empty_documents': 1215639, 'unique_terms': 5300514}\"\n",
            "-----------------------------------------------------------------------\n",
            "0 (df=23274, cf=54110)\n",
            "0'0 (df=1, cf=1)\n",
            "0'18 (df=1, cf=1)\n",
            "0'2 (df=1, cf=1)\n",
            "0'21 (df=1, cf=2)\n",
            "0'22 (df=1, cf=1)\n",
            "0'26 (df=1, cf=1)\n",
            "0'31 (df=2, cf=2)\n",
            "0'36 (df=1, cf=1)\n",
            "0'37 (df=1, cf=1)\n",
            "The analyzed form of \"蝙蝠俠\" is \"蝙\"\n",
            "term \"蝙蝠俠\": df=1, cf=1\n",
            "Posting: docid=776334, tf=1, pos=[284]\n",
            "\n"
          ]
        }
      ]
    }
  ]
}